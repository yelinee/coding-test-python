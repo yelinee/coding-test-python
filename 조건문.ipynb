{
 "cells": [
  {
   "cell_type": "markdown",
   "id": "cba6f496",
   "metadata": {},
   "source": [
    "## 두 수 비교하기"
   ]
  },
  {
   "cell_type": "markdown",
   "id": "54d1be5b",
   "metadata": {},
   "source": [
    "문제: 1330번"
   ]
  },
  {
   "cell_type": "markdown",
   "id": "ebb32776",
   "metadata": {},
   "source": [
    "링크: https://www.acmicpc.net/problem/1330"
   ]
  },
  {
   "cell_type": "code",
   "execution_count": 1,
   "id": "4c9e2247",
   "metadata": {},
   "outputs": [
    {
     "name": "stdout",
     "output_type": "stream",
     "text": [
      "1 2\n",
      "<\n"
     ]
    }
   ],
   "source": [
    "a, b = map(int, input().split())\n",
    "\n",
    "if(a > b):\n",
    "    print('>')\n",
    "elif(a < b):\n",
    "    print('<')\n",
    "else:\n",
    "    print('==')"
   ]
  },
  {
   "cell_type": "markdown",
   "id": "de9860c9",
   "metadata": {},
   "source": [
    "## 시험 성적"
   ]
  },
  {
   "cell_type": "markdown",
   "id": "3b32ca07",
   "metadata": {},
   "source": [
    "문제: 9498번"
   ]
  },
  {
   "cell_type": "markdown",
   "id": "f310482d",
   "metadata": {},
   "source": [
    "링크: https://www.acmicpc.net/problem/9498"
   ]
  },
  {
   "cell_type": "code",
   "execution_count": 2,
   "id": "b73bdd4c",
   "metadata": {},
   "outputs": [
    {
     "name": "stdout",
     "output_type": "stream",
     "text": [
      "100\n",
      "A\n"
     ]
    }
   ],
   "source": [
    "score = int(input())\n",
    "\n",
    "if score >= 90:\n",
    "    print('A')\n",
    "elif score >= 80:\n",
    "    print('B')\n",
    "elif score >= 70:\n",
    "    print('C')\n",
    "elif score >= 60:\n",
    "    print('D')\n",
    "else:\n",
    "    print('F')"
   ]
  },
  {
   "cell_type": "markdown",
   "id": "d6ca8d51",
   "metadata": {},
   "source": [
    "## 윤년"
   ]
  },
  {
   "cell_type": "markdown",
   "id": "40290fc1",
   "metadata": {},
   "source": [
    "문제: 2753번"
   ]
  },
  {
   "cell_type": "markdown",
   "id": "0a72e8cf",
   "metadata": {},
   "source": [
    "링크: https://www.acmicpc.net/problem/2753"
   ]
  },
  {
   "cell_type": "code",
   "execution_count": 3,
   "id": "316132c6",
   "metadata": {},
   "outputs": [
    {
     "name": "stdout",
     "output_type": "stream",
     "text": [
      "2000\n",
      "1\n"
     ]
    }
   ],
   "source": [
    "year = int(input())\n",
    "\n",
    "if (year % 4 == 0) and (year % 100 != 0) or (year % 400 == 0):\n",
    "    print(1)\n",
    "else:\n",
    "    print(0)"
   ]
  },
  {
   "cell_type": "markdown",
   "id": "1fb770c3",
   "metadata": {},
   "source": [
    "## 사분면 고르기"
   ]
  },
  {
   "cell_type": "markdown",
   "id": "55cc16d1",
   "metadata": {},
   "source": [
    "문제: 14681번"
   ]
  },
  {
   "cell_type": "markdown",
   "id": "64caff48",
   "metadata": {},
   "source": [
    "링크: https://www.acmicpc.net/problem/14681"
   ]
  },
  {
   "cell_type": "code",
   "execution_count": 4,
   "id": "85cd006d",
   "metadata": {},
   "outputs": [
    {
     "name": "stdout",
     "output_type": "stream",
     "text": [
      "12\n",
      "5\n",
      "1\n"
     ]
    }
   ],
   "source": [
    "x = int(input())\n",
    "y = int(input())\n",
    "\n",
    "if x > 0 and y > 0:\n",
    "    print(1)\n",
    "elif x < 0 and y > 0:\n",
    "    print(2)\n",
    "elif x < 0 and y < 0:\n",
    "    print(3)\n",
    "else:\n",
    "    print(4)"
   ]
  },
  {
   "cell_type": "markdown",
   "id": "b9b0604a",
   "metadata": {},
   "source": [
    "## 알람 시계"
   ]
  },
  {
   "cell_type": "markdown",
   "id": "9bd3343d",
   "metadata": {},
   "source": [
    "문제: 2884번"
   ]
  },
  {
   "cell_type": "markdown",
   "id": "4d1bbe11",
   "metadata": {},
   "source": [
    "링크: https://www.acmicpc.net/problem/2884"
   ]
  },
  {
   "cell_type": "code",
   "execution_count": 6,
   "id": "feefe7c7",
   "metadata": {},
   "outputs": [
    {
     "name": "stdout",
     "output_type": "stream",
     "text": [
      "10 10\n",
      "9 25\n"
     ]
    }
   ],
   "source": [
    "h, m = map(int, input().split())\n",
    "\n",
    "if m < 45:\n",
    "    if h == 0:\n",
    "        h = 24\n",
    "    h -= 1\n",
    "    m += 15\n",
    "else:\n",
    "    m -= 45\n",
    "    \n",
    "print(h, m)"
   ]
  },
  {
   "cell_type": "markdown",
   "id": "652a86b9",
   "metadata": {},
   "source": [
    "## 오븐 시계"
   ]
  },
  {
   "cell_type": "markdown",
   "id": "4fe4e0d8",
   "metadata": {},
   "source": [
    "문제: 2525번"
   ]
  },
  {
   "cell_type": "markdown",
   "id": "d606f3c8",
   "metadata": {},
   "source": [
    "링크: https://www.acmicpc.net/problem/2525"
   ]
  },
  {
   "cell_type": "code",
   "execution_count": 7,
   "id": "53810019",
   "metadata": {},
   "outputs": [
    {
     "name": "stdout",
     "output_type": "stream",
     "text": [
      "14 30\n",
      "20\n",
      "14 50\n"
     ]
    }
   ],
   "source": [
    "a, b = map(int, input().split())\n",
    "c = int(input())\n",
    "\n",
    "a += ((b + c) // 60)\n",
    "b = (b + c) % 60\n",
    "\n",
    "if a >= 24:\n",
    "    a -= 24\n",
    "\n",
    "print(a, b)"
   ]
  },
  {
   "cell_type": "markdown",
   "id": "325fb019",
   "metadata": {},
   "source": [
    "## 주사위 세개"
   ]
  },
  {
   "cell_type": "markdown",
   "id": "310944c6",
   "metadata": {},
   "source": [
    "문제: 2480번"
   ]
  },
  {
   "cell_type": "markdown",
   "id": "d703f77c",
   "metadata": {},
   "source": [
    "링크: https://www.acmicpc.net/problem/2480"
   ]
  },
  {
   "cell_type": "code",
   "execution_count": 8,
   "id": "fb0d6351",
   "metadata": {},
   "outputs": [
    {
     "name": "stdout",
     "output_type": "stream",
     "text": [
      "3 3 6\n",
      "1300\n"
     ]
    }
   ],
   "source": [
    "a, b, c = map(int, input().split())\n",
    "\n",
    "if a == b == c:\n",
    "    print(10000 + a * 1000)\n",
    "elif a == b or a == c:\n",
    "    print(1000 + a * 100)\n",
    "elif b == c:\n",
    "    print(1000 + b * 100)\n",
    "else:\n",
    "    print(max(a, b, c) * 100)"
   ]
  }
 ],
 "metadata": {
  "kernelspec": {
   "display_name": "Python 3 (ipykernel)",
   "language": "python",
   "name": "python3"
  },
  "language_info": {
   "codemirror_mode": {
    "name": "ipython",
    "version": 3
   },
   "file_extension": ".py",
   "mimetype": "text/x-python",
   "name": "python",
   "nbconvert_exporter": "python",
   "pygments_lexer": "ipython3",
   "version": "3.9.12"
  }
 },
 "nbformat": 4,
 "nbformat_minor": 5
}
