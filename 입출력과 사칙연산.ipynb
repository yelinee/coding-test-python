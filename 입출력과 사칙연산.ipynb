{
 "cells": [
  {
   "cell_type": "markdown",
   "id": "e4b13ac0",
   "metadata": {},
   "source": [
    "## Hello World"
   ]
  },
  {
   "cell_type": "markdown",
   "id": "63ceef35",
   "metadata": {},
   "source": [
    "문제: 2557번"
   ]
  },
  {
   "cell_type": "markdown",
   "id": "b3db5a7b",
   "metadata": {},
   "source": [
    "링크: https://www.acmicpc.net/problem/2557"
   ]
  },
  {
   "cell_type": "code",
   "execution_count": 3,
   "id": "edd6d433",
   "metadata": {},
   "outputs": [
    {
     "name": "stdout",
     "output_type": "stream",
     "text": [
      "Hello World!\n"
     ]
    }
   ],
   "source": [
    "print(\"Hello World!\")"
   ]
  },
  {
   "cell_type": "markdown",
   "id": "8795d373",
   "metadata": {},
   "source": [
    "## A+B"
   ]
  },
  {
   "cell_type": "markdown",
   "id": "13addb6b",
   "metadata": {},
   "source": [
    "문제: 1000번"
   ]
  },
  {
   "cell_type": "markdown",
   "id": "ffe9fd82",
   "metadata": {},
   "source": [
    "링크: https://www.acmicpc.net/problem/1000"
   ]
  },
  {
   "cell_type": "code",
   "execution_count": 4,
   "id": "301f843a",
   "metadata": {},
   "outputs": [
    {
     "name": "stdout",
     "output_type": "stream",
     "text": [
      "1 2\n",
      "3\n"
     ]
    }
   ],
   "source": [
    "a, b = map(int, input().split())\n",
    "print(a + b)"
   ]
  },
  {
   "cell_type": "markdown",
   "id": "c92a7842",
   "metadata": {},
   "source": [
    "## A-B"
   ]
  },
  {
   "cell_type": "markdown",
   "id": "4546901c",
   "metadata": {},
   "source": [
    "문제: 1001번"
   ]
  },
  {
   "cell_type": "markdown",
   "id": "d136bb59",
   "metadata": {},
   "source": [
    "링크: https://www.acmicpc.net/problem/1001"
   ]
  },
  {
   "cell_type": "code",
   "execution_count": 5,
   "id": "595ae737",
   "metadata": {},
   "outputs": [
    {
     "name": "stdout",
     "output_type": "stream",
     "text": [
      "3 2\n",
      "1\n"
     ]
    }
   ],
   "source": [
    "a, b = map(int, input().split())\n",
    "print(a - b)"
   ]
  },
  {
   "cell_type": "markdown",
   "id": "cbe0d2f3",
   "metadata": {},
   "source": [
    "## A×B"
   ]
  },
  {
   "cell_type": "markdown",
   "id": "62e3bf0a",
   "metadata": {},
   "source": [
    "문제: 10998번"
   ]
  },
  {
   "cell_type": "markdown",
   "id": "6ef1a5d4",
   "metadata": {},
   "source": [
    "링크: https://www.acmicpc.net/problem/10998"
   ]
  },
  {
   "cell_type": "code",
   "execution_count": 6,
   "id": "7034b2e4",
   "metadata": {},
   "outputs": [
    {
     "name": "stdout",
     "output_type": "stream",
     "text": [
      "1 2\n",
      "2\n"
     ]
    }
   ],
   "source": [
    "a, b = map(int, input().split())\n",
    "print(a * b)"
   ]
  },
  {
   "cell_type": "markdown",
   "id": "7973ce21",
   "metadata": {},
   "source": [
    "## A/B"
   ]
  },
  {
   "cell_type": "markdown",
   "id": "22a7d484",
   "metadata": {},
   "source": [
    "문제: 1008번"
   ]
  },
  {
   "cell_type": "markdown",
   "id": "c3339084",
   "metadata": {},
   "source": [
    "링크: https://www.acmicpc.net/problem/1008"
   ]
  },
  {
   "cell_type": "code",
   "execution_count": 7,
   "id": "4407f9c3",
   "metadata": {},
   "outputs": [
    {
     "name": "stdout",
     "output_type": "stream",
     "text": [
      "1 3\n",
      "0.3333333333333333\n"
     ]
    }
   ],
   "source": [
    "a, b = map(int, input().split())\n",
    "print(a / b)"
   ]
  },
  {
   "cell_type": "markdown",
   "id": "488ef456",
   "metadata": {},
   "source": [
    "## 사칙연산"
   ]
  },
  {
   "cell_type": "markdown",
   "id": "c30dadb5",
   "metadata": {},
   "source": [
    "문제: 10869번"
   ]
  },
  {
   "cell_type": "markdown",
   "id": "c217bbf4",
   "metadata": {},
   "source": [
    "링크: https://www.acmicpc.net/problem/10869"
   ]
  },
  {
   "cell_type": "code",
   "execution_count": 8,
   "id": "4adf31ac",
   "metadata": {},
   "outputs": [
    {
     "name": "stdout",
     "output_type": "stream",
     "text": [
      "7 3\n",
      "10\n",
      "4\n",
      "21\n",
      "2\n",
      "1\n"
     ]
    }
   ],
   "source": [
    "a, b = map(int, input().split())\n",
    "print(a + b)\n",
    "print(a - b)\n",
    "print(a * b)\n",
    "print(a // b)\n",
    "print(a % b)"
   ]
  },
  {
   "cell_type": "markdown",
   "id": "5038cdd2",
   "metadata": {},
   "source": [
    "## ??!"
   ]
  },
  {
   "cell_type": "markdown",
   "id": "c5117db2",
   "metadata": {},
   "source": [
    "문제: 10926번"
   ]
  },
  {
   "cell_type": "markdown",
   "id": "2a3e8cfc",
   "metadata": {},
   "source": [
    "링크: https://www.acmicpc.net/problem/10926"
   ]
  },
  {
   "cell_type": "code",
   "execution_count": 9,
   "id": "42cdcd60",
   "metadata": {},
   "outputs": [
    {
     "name": "stdout",
     "output_type": "stream",
     "text": [
      "joonas\n",
      "joonas??!\n"
     ]
    }
   ],
   "source": [
    "id = input()\n",
    "print(id + '??!')"
   ]
  },
  {
   "cell_type": "markdown",
   "id": "3fff5e5f",
   "metadata": {},
   "source": [
    "## 1998년생인 내가 태국에서는 2541년생?!"
   ]
  },
  {
   "cell_type": "markdown",
   "id": "25db221f",
   "metadata": {},
   "source": [
    "문제: 18108번"
   ]
  },
  {
   "cell_type": "markdown",
   "id": "5fc8e1dc",
   "metadata": {},
   "source": [
    "링크: https://www.acmicpc.net/problem/18108"
   ]
  },
  {
   "cell_type": "code",
   "execution_count": 10,
   "id": "cd80442b",
   "metadata": {},
   "outputs": [
    {
     "name": "stdout",
     "output_type": "stream",
     "text": [
      "2541\n",
      "1998\n"
     ]
    }
   ],
   "source": [
    "y = int(input())\n",
    "print(y - 543)"
   ]
  },
  {
   "cell_type": "markdown",
   "id": "3e6377fe",
   "metadata": {},
   "source": [
    "## 나머지"
   ]
  },
  {
   "cell_type": "markdown",
   "id": "1949d4f8",
   "metadata": {},
   "source": [
    "문제: 10430번"
   ]
  },
  {
   "cell_type": "markdown",
   "id": "ed2e6436",
   "metadata": {},
   "source": [
    "링크: https://www.acmicpc.net/problem/10430"
   ]
  },
  {
   "cell_type": "code",
   "execution_count": 11,
   "id": "64d36017",
   "metadata": {},
   "outputs": [
    {
     "name": "stdout",
     "output_type": "stream",
     "text": [
      "5 8 4\n",
      "1\n",
      "1\n",
      "0\n",
      "0\n"
     ]
    }
   ],
   "source": [
    "a, b, c = map(int, input().split())\n",
    "print((a + b) % c)\n",
    "print(((a % c) + (b % c)) % c)\n",
    "print((a * b) % c)\n",
    "print(((a % c) * (b % c)) % c)"
   ]
  },
  {
   "cell_type": "markdown",
   "id": "546a99df",
   "metadata": {},
   "source": [
    "모듈러 연산. 모듈러 지수 연산 중요"
   ]
  },
  {
   "cell_type": "markdown",
   "id": "9737d0fc",
   "metadata": {},
   "source": [
    "## 곱셈"
   ]
  },
  {
   "cell_type": "markdown",
   "id": "c3cbd922",
   "metadata": {},
   "source": [
    "문제: 2588번"
   ]
  },
  {
   "cell_type": "markdown",
   "id": "a186519d",
   "metadata": {},
   "source": [
    "링크: https://www.acmicpc.net/problem/2588"
   ]
  },
  {
   "cell_type": "code",
   "execution_count": 13,
   "id": "735caf6f",
   "metadata": {},
   "outputs": [
    {
     "name": "stdout",
     "output_type": "stream",
     "text": [
      "472\n",
      "385\n",
      "2360\n",
      "3776\n",
      "1416\n",
      "181720\n"
     ]
    }
   ],
   "source": [
    "a = int(input())\n",
    "b = int(input())\n",
    "\n",
    "first =  a * (b % 100 % 10)\n",
    "second = a * (b % 100 // 10)\n",
    "third = a * (b // 100)\n",
    "\n",
    "print(first)\n",
    "print(second)\n",
    "print(third)\n",
    "print(first + second * 10 + third * 100)"
   ]
  },
  {
   "cell_type": "markdown",
   "id": "be19795d",
   "metadata": {},
   "source": [
    "## 꼬마 정민"
   ]
  },
  {
   "cell_type": "markdown",
   "id": "ec8d6ce9",
   "metadata": {},
   "source": [
    "문제: 11382번"
   ]
  },
  {
   "cell_type": "markdown",
   "id": "5ef7f7b8",
   "metadata": {},
   "source": [
    "링크: https://www.acmicpc.net/problem/11382"
   ]
  },
  {
   "cell_type": "code",
   "execution_count": 14,
   "id": "34668123",
   "metadata": {},
   "outputs": [
    {
     "name": "stdout",
     "output_type": "stream",
     "text": [
      "77 77 7777\n",
      "7931\n"
     ]
    }
   ],
   "source": [
    "a, b, c = map(int, input().split())\n",
    "print(a + b + c)"
   ]
  },
  {
   "cell_type": "markdown",
   "id": "0f737967",
   "metadata": {},
   "source": [
    "## 고양이"
   ]
  },
  {
   "cell_type": "markdown",
   "id": "4f473522",
   "metadata": {},
   "source": [
    "문제: 10171번"
   ]
  },
  {
   "cell_type": "markdown",
   "id": "dcdaa237",
   "metadata": {},
   "source": [
    "링크: https://www.acmicpc.net/problem/10171"
   ]
  },
  {
   "cell_type": "code",
   "execution_count": 15,
   "id": "a4057084",
   "metadata": {},
   "outputs": [
    {
     "name": "stdout",
     "output_type": "stream",
     "text": [
      "\\    /\\\n",
      " )  ( ')\n",
      "(  /  )\n",
      " \\(__)|\n"
     ]
    }
   ],
   "source": [
    "print('\\\\    /\\\\')\n",
    "print(' )  ( \\')')\n",
    "print('(  /  )')\n",
    "print(' \\\\(__)|')"
   ]
  },
  {
   "cell_type": "markdown",
   "id": "0f3755e0",
   "metadata": {},
   "source": [
    "백슬래시(\\) 사용시 앞에 백슬래시(\\)하나 더 붙여야 함."
   ]
  },
  {
   "cell_type": "markdown",
   "id": "d23e32ad",
   "metadata": {},
   "source": [
    "## 개"
   ]
  },
  {
   "cell_type": "markdown",
   "id": "495a3d38",
   "metadata": {},
   "source": [
    "문제: 10172번"
   ]
  },
  {
   "cell_type": "markdown",
   "id": "3dc99d65",
   "metadata": {},
   "source": [
    "링크: https://www.acmicpc.net/problem/10172"
   ]
  },
  {
   "cell_type": "code",
   "execution_count": 16,
   "id": "2f2cab61",
   "metadata": {},
   "outputs": [
    {
     "name": "stdout",
     "output_type": "stream",
     "text": [
      "|\\_/|\n",
      "|q p|   /}\n",
      "( 0 )\"\"\"\\\n",
      "|\"^\"`    |\n",
      "||_/=\\\\__|\n"
     ]
    }
   ],
   "source": [
    "print('|\\\\_/|')\n",
    "print('|q p|   /}')\n",
    "print('( 0 )\\\"\"\"\\\\')\n",
    "print('|\"^\"`    |')\n",
    "print('||_/=\\\\\\\\__|')"
   ]
  }
 ],
 "metadata": {
  "kernelspec": {
   "display_name": "Python 3 (ipykernel)",
   "language": "python",
   "name": "python3"
  },
  "language_info": {
   "codemirror_mode": {
    "name": "ipython",
    "version": 3
   },
   "file_extension": ".py",
   "mimetype": "text/x-python",
   "name": "python",
   "nbconvert_exporter": "python",
   "pygments_lexer": "ipython3",
   "version": "3.9.12"
  }
 },
 "nbformat": 4,
 "nbformat_minor": 5
}
