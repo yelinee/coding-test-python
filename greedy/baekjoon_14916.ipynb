{
 "cells": [
  {
   "cell_type": "markdown",
   "id": "1d3ad517",
   "metadata": {},
   "source": [
    "## 거스름돈"
   ]
  },
  {
   "cell_type": "markdown",
   "id": "ecfb1cd4",
   "metadata": {},
   "source": [
    "문제: 백준 14916번"
   ]
  },
  {
   "cell_type": "markdown",
   "id": "efb10d5b",
   "metadata": {},
   "source": [
    "링크: https://www.acmicpc.net/problem/14916"
   ]
  },
  {
   "cell_type": "code",
   "execution_count": 4,
   "id": "648398b4",
   "metadata": {},
   "outputs": [
    {
     "name": "stdout",
     "output_type": "stream",
     "text": [
      "14\n",
      "4\n"
     ]
    }
   ],
   "source": [
    "n = int(input())\n",
    "result = 0\n",
    "\n",
    "if n < 5:\n",
    "    if n % 2 != 0:\n",
    "        result = -1\n",
    "    else:\n",
    "        result = n // 2\n",
    "else:\n",
    "    rest = n // 5\n",
    "    n %= 5\n",
    "    if n == 0:\n",
    "        result = rest\n",
    "    else:\n",
    "        if n % 2 == 0:\n",
    "            rest += n // 2\n",
    "            result = rest\n",
    "        else:\n",
    "            rest += (n + 5) // 2 - 1\n",
    "            result = rest\n",
    "            \n",
    "            \n",
    "print(result)"
   ]
  },
  {
   "cell_type": "markdown",
   "id": "a7e98e6e",
   "metadata": {},
   "source": [
    "divmod() 함수를 사용하여 몫, 나머지를 한꺼번에 구할 수 있다."
   ]
  },
  {
   "cell_type": "code",
   "execution_count": 6,
   "id": "677b7420",
   "metadata": {},
   "outputs": [
    {
     "name": "stdout",
     "output_type": "stream",
     "text": [
      "13\n",
      "5\n"
     ]
    }
   ],
   "source": [
    "n = int(input())\n",
    "result = 0\n",
    "\n",
    "if n < 5:\n",
    "    if n % 2 != 0:\n",
    "        result = -1\n",
    "    else:\n",
    "        result = n // 2\n",
    "else:\n",
    "    rest, n = divmod(n, 5) # divod 함수를 사용\n",
    "    if n == 0:\n",
    "        result = rest\n",
    "    else:\n",
    "        if n % 2 == 0:\n",
    "            rest += n // 2\n",
    "            result = rest\n",
    "        else:\n",
    "            rest += (n + 5) // 2 - 1\n",
    "            result = rest\n",
    "            \n",
    "            \n",
    "print(result)"
   ]
  }
 ],
 "metadata": {
  "kernelspec": {
   "display_name": "Python 3 (ipykernel)",
   "language": "python",
   "name": "python3"
  },
  "language_info": {
   "codemirror_mode": {
    "name": "ipython",
    "version": 3
   },
   "file_extension": ".py",
   "mimetype": "text/x-python",
   "name": "python",
   "nbconvert_exporter": "python",
   "pygments_lexer": "ipython3",
   "version": "3.9.12"
  }
 },
 "nbformat": 4,
 "nbformat_minor": 5
}
