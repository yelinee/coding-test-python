{
 "cells": [
  {
   "cell_type": "markdown",
   "id": "a828de57",
   "metadata": {},
   "source": [
    "## 거스름돈"
   ]
  },
  {
   "cell_type": "code",
   "execution_count": 3,
   "id": "d331d58b",
   "metadata": {},
   "outputs": [
    {
     "name": "stdout",
     "output_type": "stream",
     "text": [
      "1260\n",
      "6\n"
     ]
    }
   ],
   "source": [
    "n = int(input())\n",
    "count = 0\n",
    "\n",
    "coin_types = [500, 100, 50, 10]\n",
    "\n",
    "for coin in coin_types:\n",
    "    count += n // coin\n",
    "    n %= coin\n",
    "    \n",
    "print(count)"
   ]
  },
  {
   "cell_type": "markdown",
   "id": "bae74832",
   "metadata": {},
   "source": [
    "## 큰 수의 법칙"
   ]
  },
  {
   "cell_type": "markdown",
   "id": "14efc7ec",
   "metadata": {},
   "source": [
    "### 첫 번째 시도"
   ]
  },
  {
   "cell_type": "markdown",
   "id": "ee5938bc",
   "metadata": {},
   "source": [
    "가장 큰 수를 만들기 위해서는 가장 큰 수와 두 번째로 큰 수가 필요하고 해당 숫자만큼 곱하는 식을 구현하고자 하였다."
   ]
  },
  {
   "cell_type": "code",
   "execution_count": 14,
   "id": "785df443",
   "metadata": {},
   "outputs": [
    {
     "name": "stdout",
     "output_type": "stream",
     "text": [
      "5 8 5\n",
      "2 4 5 4 6\n",
      "45\n"
     ]
    }
   ],
   "source": [
    "n, m, k = map(int, input().split())\n",
    "nums = list(map(int, input().split()))\n",
    "\n",
    "nums.sort() #  내림차순의 경우 sort(reverse = True)\n",
    "first = nums[n - 1]\n",
    "second = nums[n - 2]\n",
    "\n",
    "result = (m // k) * k * first + (m % k) * second\n",
    "print(result)"
   ]
  },
  {
   "cell_type": "markdown",
   "id": "7e89e685",
   "metadata": {},
   "source": [
    "처음에 주어진 입력 예시에 맞는 출력 결과가 나오길래 맞는 답인줄 알았으나 m이 8이고 k가 5인 경우에는 원하는 결과값이 나오지 않음을 확인하였다."
   ]
  },
  {
   "cell_type": "markdown",
   "id": "f4b9e87f",
   "metadata": {},
   "source": [
    "### 두 번째 시도(정답)"
   ]
  },
  {
   "cell_type": "markdown",
   "id": "debe1009",
   "metadata": {},
   "source": [
    "나누어떨어지지 않는 경우도 고려하여 큰 수를 k번 더하고 작은 수를 1번 더하는 것을 하나의 횟수로 가정하고 수열을 작성하였다.\n",
    "\n",
    "((m // (k + 1)) * k) + (m % (k + 1))"
   ]
  },
  {
   "cell_type": "code",
   "execution_count": 12,
   "id": "dd13d24e",
   "metadata": {},
   "outputs": [
    {
     "name": "stdout",
     "output_type": "stream",
     "text": [
      "5 8 5\n",
      "2 4 5 4 6\n",
      "47\n"
     ]
    }
   ],
   "source": [
    "n, m, k = map(int, input().split())\n",
    "nums = list(map(int, input().split()))\n",
    "\n",
    "nums.sort() #  내림차순의 경우 sort(reverse = True)\n",
    "first = nums[n - 1]\n",
    "second = nums[n - 2]\n",
    "\n",
    "count = ((m // (k + 1)) * k) + (m % (k + 1))\n",
    "result = count * first + (m - count) * second\n",
    "print(result)"
   ]
  },
  {
   "cell_type": "markdown",
   "id": "b3ed1245",
   "metadata": {},
   "source": [
    "## 숫자 카드 게임"
   ]
  },
  {
   "cell_type": "markdown",
   "id": "eed2d0fc",
   "metadata": {},
   "source": [
    "### 첫 번째 시도"
   ]
  },
  {
   "cell_type": "markdown",
   "id": "2aae1419",
   "metadata": {},
   "source": [
    "행에서 제일 작은 수를 찾고 해당 수가 가장 큰 수인지 비교하는 방식으로 작성하였다."
   ]
  },
  {
   "cell_type": "code",
   "execution_count": null,
   "id": "bf8b7fcf",
   "metadata": {},
   "outputs": [],
   "source": [
    "n, m = map(int, input().split())\n",
    "result = 0\n",
    "\n",
    "for i in range(m):\n",
    "    nums = list(map(int, input().split()))\n",
    "    min_num = min(nums)\n",
    "    \n",
    "    if (min_num > result):\n",
    "        result = min_num\n",
    "\n",
    "print(result)"
   ]
  },
  {
   "cell_type": "markdown",
   "id": "7a2b8ba1",
   "metadata": {},
   "source": [
    "행(n)과 열(m)을 잘못 입력하여 반복 횟수에 오류가 발생하였다."
   ]
  },
  {
   "cell_type": "markdown",
   "id": "d3c00244",
   "metadata": {},
   "source": [
    "### 두 번째 시도(정답)"
   ]
  },
  {
   "cell_type": "code",
   "execution_count": 8,
   "id": "0e9213c4",
   "metadata": {},
   "outputs": [
    {
     "name": "stdout",
     "output_type": "stream",
     "text": [
      "2 4\n",
      "7 3 1 8\n",
      "3 3 3 4\n",
      "3\n"
     ]
    }
   ],
   "source": [
    "n, m = map(int, input().split())\n",
    "result = 0\n",
    "\n",
    "for i in range(n):\n",
    "    nums = list(map(int, input().split()))\n",
    "    min_num = min(nums)\n",
    "    \n",
    "    if (min_num > result):\n",
    "        result = min_num\n",
    "#     result = max(result, min_num) -> max를 이용한 방법도 존재\n",
    "\n",
    "print(result)"
   ]
  },
  {
   "cell_type": "markdown",
   "id": "2049442d",
   "metadata": {},
   "source": [
    "## 1이 될 때까지"
   ]
  },
  {
   "cell_type": "code",
   "execution_count": 17,
   "id": "a49de961",
   "metadata": {},
   "outputs": [
    {
     "name": "stdout",
     "output_type": "stream",
     "text": [
      "17 4\n",
      "target:  16\n",
      "n:  16\n",
      "result:  1\n",
      "-------------------\n",
      "n:  4\n",
      "result:  2\n",
      "------------------\n",
      "target:  4\n",
      "n:  4\n",
      "result:  2\n",
      "-------------------\n",
      "n:  1\n",
      "result:  3\n",
      "------------------\n",
      "target:  0\n",
      "n:  0\n",
      "result:  4\n",
      "-------------------\n",
      "3\n"
     ]
    }
   ],
   "source": [
    "n, k = map(int, input().split())\n",
    "result = 0\n",
    "\n",
    "while True:\n",
    "    target = (n // k) * k\n",
    "    result += (n - target)\n",
    "    n = target\n",
    "    \n",
    "    if n < k:\n",
    "        break\n",
    "        \n",
    "    result += 1\n",
    "    n //= k\n",
    "    \n",
    "result += (n - 1)\n",
    "print(result)"
   ]
  }
 ],
 "metadata": {
  "kernelspec": {
   "display_name": "Python 3 (ipykernel)",
   "language": "python",
   "name": "python3"
  },
  "language_info": {
   "codemirror_mode": {
    "name": "ipython",
    "version": 3
   },
   "file_extension": ".py",
   "mimetype": "text/x-python",
   "name": "python",
   "nbconvert_exporter": "python",
   "pygments_lexer": "ipython3",
   "version": "3.9.12"
  }
 },
 "nbformat": 4,
 "nbformat_minor": 5
}
