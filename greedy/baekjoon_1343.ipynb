{
 "cells": [
  {
   "cell_type": "markdown",
   "id": "4e7c729f",
   "metadata": {},
   "source": [
    "## 폴라오미노"
   ]
  },
  {
   "cell_type": "markdown",
   "id": "bd8bfe85",
   "metadata": {},
   "source": [
    "문제: 백준 1343번"
   ]
  },
  {
   "cell_type": "markdown",
   "id": "1f17458e",
   "metadata": {},
   "source": [
    "링크: https://www.acmicpc.net/problem/1343"
   ]
  },
  {
   "cell_type": "code",
   "execution_count": 33,
   "id": "928d7002",
   "metadata": {},
   "outputs": [
    {
     "name": "stdout",
     "output_type": "stream",
     "text": [
      "XXXX....XXX.....XX\n",
      "-1\n"
     ]
    }
   ],
   "source": [
    "board = list(input().split(\".\"))\n",
    "result = \"\"\n",
    "\n",
    "for data in board:\n",
    "    if \"X\" in data:\n",
    "        x = len(data)\n",
    "        \n",
    "        if x % 2 != 0:\n",
    "            result = -1\n",
    "            break\n",
    "        else:\n",
    "            if x < 4:\n",
    "                result += \"B\" * x\n",
    "            else:\n",
    "                if x % 4 == 0:\n",
    "                    result += \"A\" * x\n",
    "                else:\n",
    "                    result += \"AAAA\" * (x // 4)\n",
    "                    result += \"B\" * (x % 4)\n",
    "    result += \".\"\n",
    "\n",
    "if result == -1:\n",
    "    print(result)\n",
    "else:\n",
    "    print(result[:len(result)-1])"
   ]
  }
 ],
 "metadata": {
  "kernelspec": {
   "display_name": "Python 3 (ipykernel)",
   "language": "python",
   "name": "python3"
  },
  "language_info": {
   "codemirror_mode": {
    "name": "ipython",
    "version": 3
   },
   "file_extension": ".py",
   "mimetype": "text/x-python",
   "name": "python",
   "nbconvert_exporter": "python",
   "pygments_lexer": "ipython3",
   "version": "3.9.12"
  }
 },
 "nbformat": 4,
 "nbformat_minor": 5
}
