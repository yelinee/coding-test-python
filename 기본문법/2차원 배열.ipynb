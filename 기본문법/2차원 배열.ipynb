{
 "cells": [
  {
   "cell_type": "markdown",
   "id": "d57ac589",
   "metadata": {},
   "source": [
    "## 행렬 덧셈"
   ]
  },
  {
   "cell_type": "markdown",
   "id": "ffd5e204",
   "metadata": {},
   "source": [
    "문제: 2738번"
   ]
  },
  {
   "cell_type": "code",
   "execution_count": 3,
   "id": "33a8bbe4",
   "metadata": {},
   "outputs": [
    {
     "name": "stdout",
     "output_type": "stream",
     "text": [
      "3 3\n",
      "1 1 1\n",
      "2 2 2\n",
      "0 1 0\n",
      "3 3 3\n",
      "4 4 4\n",
      "5 5 100\n",
      "4 4 4 \n",
      "6 6 6 \n",
      "5 6 100 \n"
     ]
    }
   ],
   "source": [
    "n, m  = map(int, input().split())\n",
    "a = []\n",
    "b = []\n",
    "for _ in range(n):\n",
    "    a.append(list(map(int, input().split())))\n",
    "\n",
    "for _ in range(n):\n",
    "    b.append(list(map(int, input().split())))\n",
    "    \n",
    "for i in range(n):\n",
    "    for j in range(m):\n",
    "        print(a[i][j] + b[i][j], end=' ')\n",
    "    print()"
   ]
  },
  {
   "cell_type": "markdown",
   "id": "d5c01aa6",
   "metadata": {},
   "source": [
    "## 최댓값"
   ]
  },
  {
   "cell_type": "markdown",
   "id": "19ea947c",
   "metadata": {},
   "source": [
    "문제: 2566번"
   ]
  },
  {
   "cell_type": "code",
   "execution_count": 16,
   "id": "a9d95a41",
   "metadata": {},
   "outputs": [
    {
     "name": "stdout",
     "output_type": "stream",
     "text": [
      "3 23 85 34 17 74 25 52 65\n",
      "10 7 39 42 88 52 14 72 63\n",
      "87 42 18 78 53 45 18 84 53\n",
      "34 28 64 85 12 16 75 36 55\n",
      "21 77 45 35 28 75 90 76 1\n",
      "25 87 65 15 28 11 37 28 74\n",
      "65 27 75 41 7 89 78 64 39\n",
      "47 47 70 45 23 65 3 41 44\n",
      "87 13 82 38 31 12 29 29 80\n",
      "90\n",
      "4 6 "
     ]
    }
   ],
   "source": [
    "m = []\n",
    "idx = []\n",
    "for i in range(9):\n",
    "    tmp = list(map(int, input().split()))\n",
    "    mv = max(tmp)\n",
    "    m.append(mv)\n",
    "    idx.append(tmp.index(mv))\n",
    "    \n",
    "result = max(m)\n",
    "row = m.index(result)\n",
    "print(result)\n",
    "print(row + 1, idx[row] + 1, end=' ')"
   ]
  },
  {
   "cell_type": "markdown",
   "id": "7bd99127",
   "metadata": {},
   "source": [
    "위의 방법은 max()를 사용한 방법"
   ]
  },
  {
   "cell_type": "code",
   "execution_count": null,
   "id": "a1026126",
   "metadata": {},
   "outputs": [],
   "source": [
    "m = [list(map(int, input().split())) for _ in range(9)]\n",
    "max_value = 0\n",
    "row = 0\n",
    "col = 0\n",
    "\n",
    "for i in range(9):\n",
    "    for j in range(9):\n",
    "        if m[i][j] >= max_value:\n",
    "            max_value = m[i][j]\n",
    "            row = i + 1\n",
    "            col = j + 1\n",
    "\n",
    "print(max_value)\n",
    "print(row, col)"
   ]
  },
  {
   "cell_type": "markdown",
   "id": "fa5320d1",
   "metadata": {},
   "source": [
    "리스트 컴프리핸션과 for문을 활용하여 값을 하나씩 확인하는 방법"
   ]
  },
  {
   "cell_type": "markdown",
   "id": "15b54f9a",
   "metadata": {},
   "source": [
    "## 세로읽기"
   ]
  },
  {
   "cell_type": "markdown",
   "id": "140fe015",
   "metadata": {},
   "source": [
    "문제: 10798번"
   ]
  },
  {
   "cell_type": "code",
   "execution_count": 19,
   "id": "010eaf38",
   "metadata": {},
   "outputs": [
    {
     "name": "stdout",
     "output_type": "stream",
     "text": [
      "ABCDE\n",
      "abcde\n",
      "01234\n",
      "fghji\n",
      "fgji\n",
      "Aa0ffBb1ggCc2hjDd3jiEe4i"
     ]
    }
   ],
   "source": [
    "words = [input() for _ in range(5)]\n",
    "\n",
    "for j in range(15):\n",
    "    for i in range(5):\n",
    "        if j < len(words[i]):\n",
    "            print(words[i][j], end='')"
   ]
  },
  {
   "cell_type": "markdown",
   "id": "726667fa",
   "metadata": {},
   "source": [
    "## 색종이"
   ]
  },
  {
   "cell_type": "markdown",
   "id": "12e963f4",
   "metadata": {},
   "source": [
    "문제: 2563번"
   ]
  },
  {
   "cell_type": "code",
   "execution_count": 34,
   "id": "75d6973e",
   "metadata": {},
   "outputs": [
    {
     "name": "stdout",
     "output_type": "stream",
     "text": [
      "3\n",
      "3 7\n",
      "15 7\n",
      "5 2\n",
      "260\n"
     ]
    }
   ],
   "source": [
    "paper = [[0] * 100 for _ in range(100)]\n",
    "result = 0\n",
    "\n",
    "n = int(input())\n",
    "\n",
    "for _ in range(n):\n",
    "    x, y = map(int, input().split())\n",
    "    \n",
    "    for i in range(x, x + 10):\n",
    "        for j in range(y, y + 10):\n",
    "            paper[i][j] = 1\n",
    "            \n",
    "for row in paper:\n",
    "    result += row.count(1)\n",
    "\n",
    "print(result)"
   ]
  }
 ],
 "metadata": {
  "kernelspec": {
   "display_name": "Python 3 (ipykernel)",
   "language": "python",
   "name": "python3"
  },
  "language_info": {
   "codemirror_mode": {
    "name": "ipython",
    "version": 3
   },
   "file_extension": ".py",
   "mimetype": "text/x-python",
   "name": "python",
   "nbconvert_exporter": "python",
   "pygments_lexer": "ipython3",
   "version": "3.9.12"
  }
 },
 "nbformat": 4,
 "nbformat_minor": 5
}
