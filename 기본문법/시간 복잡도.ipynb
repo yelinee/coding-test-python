{
 "cells": [
  {
   "cell_type": "markdown",
   "id": "691425cd",
   "metadata": {},
   "source": [
    "## 알고리즘 수업 - 알고리즘의 수행 시간 1"
   ]
  },
  {
   "cell_type": "markdown",
   "id": "466f25ba",
   "metadata": {},
   "source": [
    "문제: 24262번"
   ]
  },
  {
   "cell_type": "code",
   "execution_count": 1,
   "id": "b0f65d07",
   "metadata": {},
   "outputs": [
    {
     "name": "stdout",
     "output_type": "stream",
     "text": [
      "1\n",
      "0\n"
     ]
    }
   ],
   "source": [
    "print(1)\n",
    "print(0)"
   ]
  },
  {
   "cell_type": "markdown",
   "id": "3d40648d",
   "metadata": {},
   "source": [
    "입력값 n의 값과는 상관없이 항상 동일한 작업을 수행하므로 수행 횟수는 1이고, 시간 복잡도는 O(1)이다."
   ]
  },
  {
   "cell_type": "markdown",
   "id": "3272db74",
   "metadata": {},
   "source": [
    "## 알고리즘 수업 - 알고리즘의 수행 시간 2"
   ]
  },
  {
   "cell_type": "markdown",
   "id": "27dc1a19",
   "metadata": {},
   "source": [
    "문제: 24263번"
   ]
  },
  {
   "cell_type": "code",
   "execution_count": 2,
   "id": "f56d2e28",
   "metadata": {},
   "outputs": [
    {
     "name": "stdout",
     "output_type": "stream",
     "text": [
      "7\n",
      "7\n",
      "1\n"
     ]
    }
   ],
   "source": [
    "n = int(input())\n",
    "print(n)\n",
    "print(1)"
   ]
  },
  {
   "cell_type": "markdown",
   "id": "efc3d4fb",
   "metadata": {},
   "source": [
    "입력 값 n에 따라 n번 수행하기 때문에 시간 복잡도는 O(n)이다."
   ]
  },
  {
   "cell_type": "markdown",
   "id": "91ca246c",
   "metadata": {},
   "source": [
    "## 알고리즘 수업 - 알고리즘의 수행 시간 3"
   ]
  },
  {
   "cell_type": "markdown",
   "id": "da2b8f94",
   "metadata": {},
   "source": [
    "문제: 24264번"
   ]
  },
  {
   "cell_type": "code",
   "execution_count": 3,
   "id": "773f9ab1",
   "metadata": {},
   "outputs": [
    {
     "name": "stdout",
     "output_type": "stream",
     "text": [
      "7\n",
      "49\n",
      "2\n"
     ]
    }
   ],
   "source": [
    "n = int(input())\n",
    "print(n**2)\n",
    "print(2)"
   ]
  },
  {
   "cell_type": "markdown",
   "id": "f465ec59",
   "metadata": {},
   "source": [
    "입력 크기에 따라 n번을 n번 반복하는 이중 반복문이므로, 시간 복잡도는 O(n²)이다."
   ]
  },
  {
   "cell_type": "markdown",
   "id": "b5f42302",
   "metadata": {},
   "source": [
    "## 알고리즘 수업 - 알고리즘의 수행 시간 4"
   ]
  },
  {
   "cell_type": "markdown",
   "id": "49b802f8",
   "metadata": {},
   "source": [
    "문제: 24265번"
   ]
  },
  {
   "cell_type": "code",
   "execution_count": 4,
   "id": "2aea5779",
   "metadata": {},
   "outputs": [
    {
     "name": "stdout",
     "output_type": "stream",
     "text": [
      "7\n",
      "21\n",
      "2\n"
     ]
    }
   ],
   "source": [
    "n =  int(input())\n",
    "print(n * (n - 1) // 2)\n",
    "print(2)"
   ]
  },
  {
   "cell_type": "markdown",
   "id": "a39f9d94",
   "metadata": {},
   "source": [
    "j = i + 1 이므로 i < j 이다. 따라서 반복 횟수는 n - 1, n - 2, ... 1 이다. 1부터 n - 1까지의 수열의 합을 구하면 n(n−1)/2 이다."
   ]
  },
  {
   "cell_type": "markdown",
   "id": "2f109566",
   "metadata": {},
   "source": [
    "## 알고리즘 수업 - 알고리즘의 수행 시간 5"
   ]
  },
  {
   "cell_type": "markdown",
   "id": "c18dbc2b",
   "metadata": {},
   "source": [
    "문제: 24266번"
   ]
  },
  {
   "cell_type": "code",
   "execution_count": 6,
   "id": "8e16d0d8",
   "metadata": {},
   "outputs": [
    {
     "name": "stdout",
     "output_type": "stream",
     "text": [
      "7\n",
      "343\n",
      "3\n"
     ]
    }
   ],
   "source": [
    "n = int(input())\n",
    "print(n**3)\n",
    "print(3)"
   ]
  },
  {
   "cell_type": "markdown",
   "id": "10c3c878",
   "metadata": {},
   "source": [
    "n번의 반복문을 n번씩 3번 반복하므로 O(n^3)이다."
   ]
  },
  {
   "cell_type": "markdown",
   "id": "2451c784",
   "metadata": {},
   "source": [
    "## 알고리즘 수업 - 알고리즘의 수행 시간 6"
   ]
  },
  {
   "cell_type": "markdown",
   "id": "2e285fa5",
   "metadata": {},
   "source": [
    "문제: 24267번"
   ]
  },
  {
   "cell_type": "code",
   "execution_count": 7,
   "id": "9702e78a",
   "metadata": {},
   "outputs": [
    {
     "name": "stdout",
     "output_type": "stream",
     "text": [
      "7\n",
      "35\n",
      "3\n"
     ]
    }
   ],
   "source": [
    "n = int(input())\n",
    "print(n * (n - 1) * (n - 2) // 6)\n",
    "print(3)"
   ]
  },
  {
   "cell_type": "markdown",
   "id": "d7bc0c2c",
   "metadata": {},
   "source": [
    "i < j < k 이므로 서로 다른 3개의 수를 뽑는 조합과 동일하다. nC3이므로 수행 횟수는 n!/3!(n-3)!이다. 따라서 n * (n - 1) * (n - 2) // 6이고, 시간 복잡도는 O(n^3)이다."
   ]
  },
  {
   "cell_type": "markdown",
   "id": "ba34c142",
   "metadata": {},
   "source": [
    "## 알고리즘 수업 - 점근적 표기 1"
   ]
  },
  {
   "cell_type": "markdown",
   "id": "4725c406",
   "metadata": {},
   "source": [
    "문제: 24313번"
   ]
  },
  {
   "cell_type": "code",
   "execution_count": 10,
   "id": "7a508886",
   "metadata": {},
   "outputs": [
    {
     "name": "stdout",
     "output_type": "stream",
     "text": [
      "7 7\n",
      "8\n",
      "1\n",
      "0\n"
     ]
    }
   ],
   "source": [
    "a1, a0 = map(int, input().split())\n",
    "c = int(input())\n",
    "n0 = int(input())\n",
    "\n",
    "if a1 * n0 + a0 <= c * n0 and a1 <= c:\n",
    "    print(1)\n",
    "else:\n",
    "    print(0)"
   ]
  },
  {
   "cell_type": "markdown",
   "id": "c44e018a",
   "metadata": {},
   "source": [
    "a1, a0는 음수가 될 수도 있으므로, a0일 때 a1이 C보다 크면 n0보다 큰 수일 때 f(n)이 g(n)보다 클 수 있으므로 정의가 만족하지 않는다. 따라서, a1 <= c의 조건을 추가해줘야 한다."
   ]
  }
 ],
 "metadata": {
  "kernelspec": {
   "display_name": "Python 3 (ipykernel)",
   "language": "python",
   "name": "python3"
  },
  "language_info": {
   "codemirror_mode": {
    "name": "ipython",
    "version": 3
   },
   "file_extension": ".py",
   "mimetype": "text/x-python",
   "name": "python",
   "nbconvert_exporter": "python",
   "pygments_lexer": "ipython3",
   "version": "3.9.12"
  }
 },
 "nbformat": 4,
 "nbformat_minor": 5
}
