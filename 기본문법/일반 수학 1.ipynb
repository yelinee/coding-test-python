{
 "cells": [
  {
   "cell_type": "markdown",
   "id": "c74a7aa3",
   "metadata": {},
   "source": [
    "## 진법 변환"
   ]
  },
  {
   "cell_type": "markdown",
   "id": "ae16fc88",
   "metadata": {},
   "source": [
    "문제: 2745번"
   ]
  },
  {
   "cell_type": "code",
   "execution_count": 5,
   "id": "d54ff2bd",
   "metadata": {},
   "outputs": [
    {
     "name": "stdout",
     "output_type": "stream",
     "text": [
      "ZZZZZ 36\n",
      "60466175\n"
     ]
    }
   ],
   "source": [
    "n, b = input().split()\n",
    "b = int(b)\n",
    "\n",
    "nums = \"0123456789ABCDEFGHIJKLMNOPQRSTUVWXYZ\"\n",
    "result = 0\n",
    "\n",
    "for i in range(len(n)):\n",
    "    result += nums.find(n[i]) * b ** (len(n) - 1 - i)\n",
    "    \n",
    "print(result)"
   ]
  },
  {
   "cell_type": "markdown",
   "id": "58572ad9",
   "metadata": {},
   "source": [
    "enumerate() 함수를 사용한 경우(다른 사람들의 코드 참고) "
   ]
  },
  {
   "cell_type": "code",
   "execution_count": 11,
   "id": "b194e782",
   "metadata": {},
   "outputs": [
    {
     "name": "stdout",
     "output_type": "stream",
     "text": [
      "ZZZZZ 36\n",
      "60466175\n"
     ]
    }
   ],
   "source": [
    "n, b = input().split()\n",
    "b = int(b)\n",
    "\n",
    "nums = \"0123456789ABCDEFGHIJKLMNOPQRSTUVWXYZ\"\n",
    "result = 0\n",
    "\n",
    "for i, num in enumerate(n[::-1]):\n",
    "    result += nums.find(num) * b ** i\n",
    "    \n",
    "print(result)"
   ]
  },
  {
   "cell_type": "markdown",
   "id": "23a13b89",
   "metadata": {},
   "source": [
    "파이썬에서의 int()함수 특성을 사용한 경우(다른 진법을 10진법으로 변경할 수 있음)"
   ]
  },
  {
   "cell_type": "markdown",
   "id": "8aafdaaf",
   "metadata": {},
   "source": [
    "## 진법 변환 2"
   ]
  },
  {
   "cell_type": "markdown",
   "id": "ec3f485d",
   "metadata": {},
   "source": [
    "문제: 11005번"
   ]
  },
  {
   "cell_type": "code",
   "execution_count": 51,
   "id": "d81f4a76",
   "metadata": {},
   "outputs": [
    {
     "name": "stdout",
     "output_type": "stream",
     "text": [
      "60466175 36\n",
      "ZZZZZ\n"
     ]
    }
   ],
   "source": [
    "nums = \"0123456789ABCDEFGHIJKLMNOPQRSTUVWXYZ\"\n",
    "n, b = map(int, input().split())\n",
    "result = \"\"\n",
    "while n > 0:\n",
    "    result = nums[n % b] + result\n",
    "    n //= b\n",
    "       \n",
    "print(result)"
   ]
  },
  {
   "cell_type": "markdown",
   "id": "f4cbf3f1",
   "metadata": {},
   "source": [
    "## 세탁소 사장 동혁"
   ]
  },
  {
   "cell_type": "markdown",
   "id": "744c5caa",
   "metadata": {},
   "source": [
    "문제: 2720번"
   ]
  },
  {
   "cell_type": "code",
   "execution_count": 17,
   "id": "aba979fa",
   "metadata": {},
   "outputs": [
    {
     "name": "stdout",
     "output_type": "stream",
     "text": [
      "3\n",
      "124\n",
      "4 2 0 4 \n",
      "25\n",
      "1 0 0 0 \n",
      "194\n",
      "7 1 1 4 \n"
     ]
    }
   ],
   "source": [
    "money = [25, 10, 5, 1]\n",
    "t = int(input())\n",
    "for _ in range(t):\n",
    "    n = int(input())\n",
    "    for i in range(len(money)):\n",
    "        print(n // money[i], end=' ')\n",
    "        n = n % money[i]\n",
    "    print()"
   ]
  },
  {
   "cell_type": "markdown",
   "id": "a1f6dd36",
   "metadata": {},
   "source": [
    "## 중앙 이동 알고리즘"
   ]
  },
  {
   "cell_type": "markdown",
   "id": "f171cc68",
   "metadata": {},
   "source": [
    "문제: 2903번"
   ]
  },
  {
   "cell_type": "code",
   "execution_count": 31,
   "id": "b708f242",
   "metadata": {},
   "outputs": [
    {
     "name": "stdout",
     "output_type": "stream",
     "text": [
      "2\n",
      "25\n"
     ]
    }
   ],
   "source": [
    "n = int(input())\n",
    "result = 2\n",
    "\n",
    "for i in range(n):\n",
    "    result += 2 ** i\n",
    "    \n",
    "print(result ** 2)"
   ]
  },
  {
   "cell_type": "markdown",
   "id": "61629588",
   "metadata": {},
   "source": [
    "## 벌집"
   ]
  },
  {
   "cell_type": "markdown",
   "id": "8e4f0484",
   "metadata": {},
   "source": [
    "문제: 2292번"
   ]
  },
  {
   "cell_type": "code",
   "execution_count": 59,
   "id": "dc44e102",
   "metadata": {},
   "outputs": [
    {
     "name": "stdout",
     "output_type": "stream",
     "text": [
      "13\n",
      "3\n"
     ]
    }
   ],
   "source": [
    "n = int(input())\n",
    "result = 1\n",
    "tmp = 1\n",
    "while n > tmp:\n",
    "    tmp += result * 6\n",
    "    result += 1\n",
    "    \n",
    "print(result)"
   ]
  },
  {
   "cell_type": "markdown",
   "id": "d711c18a",
   "metadata": {},
   "source": [
    "## 분수찾기"
   ]
  },
  {
   "cell_type": "markdown",
   "id": "ceef629d",
   "metadata": {},
   "source": [
    "문제: 1193번"
   ]
  },
  {
   "cell_type": "code",
   "execution_count": 37,
   "id": "6fbe7e26",
   "metadata": {},
   "outputs": [
    {
     "name": "stdout",
     "output_type": "stream",
     "text": [
      "6\n",
      "1/3\n"
     ]
    }
   ],
   "source": [
    "x = int(input())\n",
    "line = 1\n",
    "\n",
    "while x > line:\n",
    "    x -= line\n",
    "    line += 1\n",
    "    \n",
    "if line % 2 == 0:\n",
    "    a = x\n",
    "    b = line - x + 1\n",
    "else:\n",
    "    a = line - x + 1\n",
    "    b = x\n",
    "    \n",
    "print(f'{a}/{b}')"
   ]
  },
  {
   "cell_type": "markdown",
   "id": "97d93f35",
   "metadata": {},
   "source": [
    "## 달팽이는 올라가고 싶다"
   ]
  },
  {
   "cell_type": "markdown",
   "id": "1afeee5d",
   "metadata": {},
   "source": [
    "문제: 2869번"
   ]
  },
  {
   "cell_type": "code",
   "execution_count": 69,
   "id": "61009f08",
   "metadata": {},
   "outputs": [
    {
     "name": "stdout",
     "output_type": "stream",
     "text": [
      "5 1 6\n",
      "2\n"
     ]
    }
   ],
   "source": [
    "a, b, v = map(int, input().split())\n",
    "\n",
    "day = (v - b) / (a - b)\n",
    "print(int(day) if day == int(day) else int(day) + 1)"
   ]
  }
 ],
 "metadata": {
  "kernelspec": {
   "display_name": "Python 3 (ipykernel)",
   "language": "python",
   "name": "python3"
  },
  "language_info": {
   "codemirror_mode": {
    "name": "ipython",
    "version": 3
   },
   "file_extension": ".py",
   "mimetype": "text/x-python",
   "name": "python",
   "nbconvert_exporter": "python",
   "pygments_lexer": "ipython3",
   "version": "3.9.12"
  }
 },
 "nbformat": 4,
 "nbformat_minor": 5
}
