{
 "cells": [
  {
   "cell_type": "markdown",
   "id": "7b2af7e6",
   "metadata": {},
   "source": [
    "## 수 정렬하기"
   ]
  },
  {
   "cell_type": "markdown",
   "id": "ac682048",
   "metadata": {},
   "source": [
    "문제: 2750번"
   ]
  },
  {
   "cell_type": "code",
   "execution_count": 16,
   "id": "9b339e1e",
   "metadata": {},
   "outputs": [
    {
     "name": "stdout",
     "output_type": "stream",
     "text": [
      "5\n",
      "5\n",
      "2\n",
      "3\n",
      "4\n",
      "1\n",
      "1\n",
      "2\n",
      "3\n",
      "4\n",
      "5\n"
     ]
    }
   ],
   "source": [
    "n = int(input())\n",
    "lst = []\n",
    "for _ in range(n):\n",
    "    lst.append(int(input()))\n",
    "\n",
    "for i in range(n):\n",
    "    for j in range(0, n-i-1):\n",
    "        if lst[j] > lst[j+1]:\n",
    "            lst[j], lst[j+1] = lst[j+1], lst[j]\n",
    "            \n",
    "print(*lst, sep=\"\\n\")"
   ]
  },
  {
   "cell_type": "markdown",
   "id": "55618f08",
   "metadata": {},
   "source": [
    "버블 정렬을 이용한 방법"
   ]
  },
  {
   "cell_type": "code",
   "execution_count": null,
   "id": "42544d31",
   "metadata": {},
   "outputs": [],
   "source": [
    "n = int(input())\n",
    "lst = []\n",
    "for _ in range(n):\n",
    "    lst.append(int(input()))\n",
    "\n",
    "for i in range(n):\n",
    "    min_idx = i\n",
    "    for j in range(i+1, n):\n",
    "        if lst[min_idx] > lst[j]:\n",
    "            min_idx = j\n",
    "    lst[i], lst[min_idx] = lst[min_idx], lst[i]\n",
    "        \n",
    "print(*lst, sep=\"\\n\")"
   ]
  },
  {
   "cell_type": "markdown",
   "id": "218c9f68",
   "metadata": {},
   "source": [
    "선택 정렬을 이용한 방법"
   ]
  },
  {
   "cell_type": "code",
   "execution_count": null,
   "id": "75cd0f4f",
   "metadata": {},
   "outputs": [],
   "source": [
    "n = int(input())\n",
    "lst = []\n",
    "for _ in range(n):\n",
    "    lst.append(int(input()))\n",
    "\n",
    "for i in range(1, n):\n",
    "    for j in range(i, 0, -1):\n",
    "        if lst[j] < lst[j-1]:\n",
    "            lst[j], lst[j-1] = lst[j-1], lst[j]\n",
    "        else:\n",
    "            break\n",
    "                \n",
    "print(*lst, sep=\"\\n\")"
   ]
  },
  {
   "cell_type": "markdown",
   "id": "5dd410b6",
   "metadata": {},
   "source": [
    "삽입 정렬을 이용한 방법"
   ]
  },
  {
   "cell_type": "code",
   "execution_count": null,
   "id": "2f875c7a",
   "metadata": {},
   "outputs": [],
   "source": [
    "lst = []\n",
    "n = int(input())\n",
    "for _ in range(n):\n",
    "    lst.append(int(input()))\n",
    "    \n",
    "lst.sort()\n",
    "print(*lst, sep=\"\\n\")"
   ]
  },
  {
   "cell_type": "markdown",
   "id": "7f50ab33",
   "metadata": {},
   "source": [
    "내장 함수를 사용한 방법"
   ]
  },
  {
   "cell_type": "markdown",
   "id": "029003cb",
   "metadata": {},
   "source": [
    "## 대표값"
   ]
  },
  {
   "cell_type": "markdown",
   "id": "50fb0b14",
   "metadata": {},
   "source": [
    "문제: 2587번"
   ]
  },
  {
   "cell_type": "code",
   "execution_count": 9,
   "id": "e676587f",
   "metadata": {},
   "outputs": [
    {
     "name": "stdout",
     "output_type": "stream",
     "text": [
      "10\n",
      "40\n",
      "30\n",
      "60\n",
      "30\n",
      "34\n",
      "30\n"
     ]
    }
   ],
   "source": [
    "nums = []\n",
    "for _ in range(5):\n",
    "    nums.append(int(input()))\n",
    "nums.sort()\n",
    "    \n",
    "print(sum(nums) // len(nums))\n",
    "print(nums[2])"
   ]
  },
  {
   "cell_type": "markdown",
   "id": "a013b915",
   "metadata": {},
   "source": [
    "## 커트라인"
   ]
  },
  {
   "cell_type": "markdown",
   "id": "3f621dc9",
   "metadata": {},
   "source": [
    "문제: 25305번"
   ]
  },
  {
   "cell_type": "code",
   "execution_count": 10,
   "id": "4f338edb",
   "metadata": {},
   "outputs": [
    {
     "name": "stdout",
     "output_type": "stream",
     "text": [
      "5 2\n",
      "100 76 85 93 98\n",
      "98\n"
     ]
    }
   ],
   "source": [
    "n, k = map(int, input().split())\n",
    "students = list(map(int, input().split()))\n",
    "students.sort(reverse=True)\n",
    "    \n",
    "print(students[k-1])"
   ]
  },
  {
   "cell_type": "markdown",
   "id": "b26477ab",
   "metadata": {},
   "source": [
    "## 수 정렬하기2"
   ]
  },
  {
   "cell_type": "markdown",
   "id": "6c99b76d",
   "metadata": {},
   "source": [
    "문제: 2751번"
   ]
  },
  {
   "cell_type": "code",
   "execution_count": null,
   "id": "60ce68a1",
   "metadata": {},
   "outputs": [],
   "source": [
    "import sys\n",
    "\n",
    "n = int(input())\n",
    "lst = []\n",
    "for _ in range(n):\n",
    "    lst.append(int(sys.stdin.readline()))\n",
    "        \n",
    "lst.sort()\n",
    "print(*lst, sep=\"\\n\")"
   ]
  },
  {
   "cell_type": "markdown",
   "id": "261a4d83",
   "metadata": {},
   "source": [
    "for문 안에서 값을 입력받을 때 input()을 사용하면 시간 초과가 발생함. sys.stdin을 사용해줘야 함."
   ]
  },
  {
   "cell_type": "markdown",
   "id": "bba18cb9",
   "metadata": {},
   "source": [
    "## 수 정렬하기 3"
   ]
  },
  {
   "cell_type": "markdown",
   "id": "29800e38",
   "metadata": {},
   "source": [
    "문제: 10989번"
   ]
  },
  {
   "cell_type": "code",
   "execution_count": null,
   "id": "6515cff7",
   "metadata": {},
   "outputs": [],
   "source": [
    "import sys\n",
    "n = int(input())\n",
    "count = [0] * 10001\n",
    "\n",
    "for _ in range(n):\n",
    "    count[int(sys.stdin.readline())] += 1\n",
    "        \n",
    "for i in range(1, len(count)):\n",
    "    for j in range(count[i]):\n",
    "        print(i)"
   ]
  },
  {
   "cell_type": "markdown",
   "id": "feef492d",
   "metadata": {},
   "source": [
    "계수 정렬을 이용하여 해결"
   ]
  }
 ],
 "metadata": {
  "kernelspec": {
   "display_name": "Python 3 (ipykernel)",
   "language": "python",
   "name": "python3"
  },
  "language_info": {
   "codemirror_mode": {
    "name": "ipython",
    "version": 3
   },
   "file_extension": ".py",
   "mimetype": "text/x-python",
   "name": "python",
   "nbconvert_exporter": "python",
   "pygments_lexer": "ipython3",
   "version": "3.9.12"
  }
 },
 "nbformat": 4,
 "nbformat_minor": 5
}
