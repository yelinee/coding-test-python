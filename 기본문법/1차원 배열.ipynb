{
 "cells": [
  {
   "cell_type": "markdown",
   "id": "5c24d1db",
   "metadata": {},
   "source": [
    "## 개수 세기"
   ]
  },
  {
   "cell_type": "markdown",
   "id": "fc021419",
   "metadata": {},
   "source": [
    "문제: 10807번"
   ]
  },
  {
   "cell_type": "code",
   "execution_count": 1,
   "id": "08a4e181",
   "metadata": {},
   "outputs": [
    {
     "name": "stdout",
     "output_type": "stream",
     "text": [
      "11\n",
      "1 4 1 2 4 2 4 2 3 4 4\n",
      "2\n",
      "3\n"
     ]
    }
   ],
   "source": [
    "n = int(input())\n",
    "lst = list(map(int, input().split()))\n",
    "v = int(input())\n",
    "print(lst.count(v))"
   ]
  },
  {
   "cell_type": "markdown",
   "id": "a923be11",
   "metadata": {},
   "source": [
    "## X보다 작은 수"
   ]
  },
  {
   "cell_type": "markdown",
   "id": "97655902",
   "metadata": {},
   "source": [
    "문제: 10871번"
   ]
  },
  {
   "cell_type": "code",
   "execution_count": 2,
   "id": "736b39d3",
   "metadata": {},
   "outputs": [
    {
     "name": "stdout",
     "output_type": "stream",
     "text": [
      "10 5\n",
      "1 10 4 9 2 3 8 5 7 6\n",
      "1 4 2 3 "
     ]
    }
   ],
   "source": [
    "n, x = map(int, input().split())\n",
    "lst = list(map(int, input().split()))\n",
    "\n",
    "for i in lst:\n",
    "    if i < x:\n",
    "        print(i, end=' ')"
   ]
  },
  {
   "cell_type": "markdown",
   "id": "af8f5c3a",
   "metadata": {},
   "source": [
    "## 최소, 최대"
   ]
  },
  {
   "cell_type": "markdown",
   "id": "7c34def0",
   "metadata": {},
   "source": [
    "문제: 10818번"
   ]
  },
  {
   "cell_type": "code",
   "execution_count": 3,
   "id": "03286a01",
   "metadata": {},
   "outputs": [
    {
     "name": "stdout",
     "output_type": "stream",
     "text": [
      "5\n",
      "20 10 35 30 7\n",
      "7 35\n"
     ]
    }
   ],
   "source": [
    "n = int(input())\n",
    "lst = list(map(int, input().split()))\n",
    "\n",
    "print(min(lst), max(lst))"
   ]
  },
  {
   "cell_type": "markdown",
   "id": "9ba34bb3",
   "metadata": {},
   "source": [
    "## 최댓값"
   ]
  },
  {
   "cell_type": "markdown",
   "id": "d2823b0f",
   "metadata": {},
   "source": [
    "문제: 2562번"
   ]
  },
  {
   "cell_type": "code",
   "execution_count": 5,
   "id": "51eef5fa",
   "metadata": {
    "scrolled": true
   },
   "outputs": [
    {
     "name": "stdout",
     "output_type": "stream",
     "text": [
      "3\n",
      "29\n",
      "38\n",
      "12\n",
      "57\n",
      "74\n",
      "40\n",
      "85\n",
      "61\n",
      "85\n",
      "8\n"
     ]
    }
   ],
   "source": [
    "lst = []\n",
    "for i in range(9):\n",
    "    lst.append(int(input()))\n",
    "\n",
    "max_value = max(lst)    \n",
    "print(max_value)\n",
    "print(lst.index(max_value) + 1)"
   ]
  },
  {
   "cell_type": "markdown",
   "id": "bb68d543",
   "metadata": {},
   "source": [
    "## 공 넣기"
   ]
  },
  {
   "cell_type": "markdown",
   "id": "ea1f6498",
   "metadata": {},
   "source": [
    "문제: 10810번"
   ]
  },
  {
   "cell_type": "code",
   "execution_count": 6,
   "id": "018f844c",
   "metadata": {},
   "outputs": [
    {
     "name": "stdout",
     "output_type": "stream",
     "text": [
      "5 4\n",
      "1 2 3\n",
      "3 4 4\n",
      "1 4 1\n",
      "2 2 2\n",
      "1 2 1 1 0\n"
     ]
    }
   ],
   "source": [
    "n, m = map(int, input().split())\n",
    "lst = [0] * n\n",
    "for i in range(m):\n",
    "    i, j, k = map(int, input().split())\n",
    "    \n",
    "    for z in range(i - 1, j):\n",
    "        lst[z] = k\n",
    "\n",
    "print(*lst)"
   ]
  },
  {
   "cell_type": "markdown",
   "id": "d5aeef9b",
   "metadata": {},
   "source": [
    "print(*lst)와 for문을 사용하여 출력하는 방법 모두 시간 복잡도는 O(n)으로 동일하다. 그러나 실행속도가 언팩이 더 빠를 수 있고 코드가 더 간결하다."
   ]
  },
  {
   "cell_type": "markdown",
   "id": "beca1814",
   "metadata": {},
   "source": [
    "## 공 바꾸기"
   ]
  },
  {
   "cell_type": "markdown",
   "id": "1303b968",
   "metadata": {},
   "source": [
    "문제: 10813번"
   ]
  },
  {
   "cell_type": "code",
   "execution_count": 9,
   "id": "21e414cf",
   "metadata": {},
   "outputs": [
    {
     "name": "stdout",
     "output_type": "stream",
     "text": [
      "5 4\n",
      "1 2\n",
      "3 4\n",
      "1 4\n",
      "2 2\n",
      "3 1 4 2 5\n"
     ]
    }
   ],
   "source": [
    "n, m = map(int, input().split())\n",
    "b = list(range(1, n + 1))\n",
    "\n",
    "for _ in range(m):\n",
    "    i, j = map(int, input().split())\n",
    "    b[i - 1], b[j - 1] = b[j - 1], b[i - 1]\n",
    "    \n",
    "print(*b)"
   ]
  },
  {
   "cell_type": "markdown",
   "id": "64496bcc",
   "metadata": {},
   "source": [
    "## 과제 안 내신 분..?"
   ]
  },
  {
   "cell_type": "markdown",
   "id": "dae54ad4",
   "metadata": {},
   "source": [
    "문제: 5594번"
   ]
  },
  {
   "cell_type": "code",
   "execution_count": null,
   "id": "be148b28",
   "metadata": {},
   "outputs": [],
   "source": [
    "lst = list(range(1, 31))\n",
    "for i in range(28):\n",
    "    n = int(input())\n",
    "    lst[n - 1] = 0\n",
    "    \n",
    "for i in sorted(lst):\n",
    "    if i != 0:\n",
    "        print(i)"
   ]
  },
  {
   "cell_type": "code",
   "execution_count": null,
   "id": "c86aed52",
   "metadata": {},
   "outputs": [],
   "source": [
    "lst = [0] * 30\n",
    "for _ in range(28):\n",
    "    n = int(input())\n",
    "    lst[n - 1] = 1\n",
    "    \n",
    "for i in range(30):\n",
    "    if lst[i] == 0:\n",
    "        print(i + 1)"
   ]
  },
  {
   "cell_type": "markdown",
   "id": "bcb000cc",
   "metadata": {},
   "source": [
    "## 나머지"
   ]
  },
  {
   "cell_type": "markdown",
   "id": "8228772c",
   "metadata": {},
   "source": [
    "문제: 3052번"
   ]
  },
  {
   "cell_type": "code",
   "execution_count": 10,
   "id": "e83886e9",
   "metadata": {},
   "outputs": [
    {
     "name": "stdout",
     "output_type": "stream",
     "text": [
      "1\n",
      "2\n",
      "3\n",
      "4\n",
      "5\n",
      "6\n",
      "7\n",
      "8\n",
      "9\n",
      "10\n",
      "10\n"
     ]
    }
   ],
   "source": [
    "lst = []\n",
    "for _ in range(10):\n",
    "    n = int(input())\n",
    "    i = n % 42\n",
    "    if i not in lst:\n",
    "        lst.append(i)\n",
    "        \n",
    "print(len(lst))"
   ]
  },
  {
   "cell_type": "code",
   "execution_count": 21,
   "id": "3f44060b",
   "metadata": {},
   "outputs": [],
   "source": [
    "new = lst[3:7]"
   ]
  },
  {
   "cell_type": "code",
   "execution_count": 22,
   "id": "bbc73d94",
   "metadata": {},
   "outputs": [],
   "source": [
    "new.reverse()"
   ]
  },
  {
   "cell_type": "code",
   "execution_count": 23,
   "id": "c7b9e5ff",
   "metadata": {},
   "outputs": [
    {
     "name": "stdout",
     "output_type": "stream",
     "text": [
      "[7, 6, 5, 4]\n"
     ]
    }
   ],
   "source": [
    "print(new)"
   ]
  },
  {
   "cell_type": "code",
   "execution_count": 13,
   "id": "9a722f86",
   "metadata": {},
   "outputs": [
    {
     "name": "stdout",
     "output_type": "stream",
     "text": [
      "1 2 3 4 5 6 7 8 9 10\n"
     ]
    }
   ],
   "source": [
    "print(*lst)"
   ]
  },
  {
   "cell_type": "markdown",
   "id": "c26154e1",
   "metadata": {},
   "source": [
    "## 바구니 뒤집기"
   ]
  },
  {
   "cell_type": "markdown",
   "id": "9e463f33",
   "metadata": {},
   "source": [
    "문제: 10811번"
   ]
  },
  {
   "cell_type": "code",
   "execution_count": 35,
   "id": "0a2c7879",
   "metadata": {},
   "outputs": [
    {
     "name": "stdout",
     "output_type": "stream",
     "text": [
      "5 4\n",
      "1 2\n",
      "3 4\n",
      "1 4\n",
      "2 2\n",
      "3 4 1 2 5\n"
     ]
    }
   ],
   "source": [
    "n, m = map(int, input().split())\n",
    "b = list(range(1, n + 1))\n",
    "for _ in range(m):\n",
    "    i, j = map(int, input().split())\n",
    "    temp = b[i - 1:j]\n",
    "    temp.reverse()\n",
    "    b[i - 1:j] = temp\n",
    "\n",
    "print(*b)"
   ]
  },
  {
   "cell_type": "code",
   "execution_count": 40,
   "id": "bb950243",
   "metadata": {},
   "outputs": [
    {
     "name": "stdout",
     "output_type": "stream",
     "text": [
      "4\n",
      "1 100 100 100\n",
      "75.25\n"
     ]
    }
   ],
   "source": [
    "n = int(input())\n",
    "score = list(map(int, input().split()))\n",
    "max_score = max(score)\n",
    "print(sum(score) / max_score * 100 / n)"
   ]
  },
  {
   "cell_type": "markdown",
   "id": "c7b5bc9a",
   "metadata": {},
   "source": [
    "## 평균"
   ]
  },
  {
   "cell_type": "markdown",
   "id": "bffe1497",
   "metadata": {},
   "source": [
    "문제: 1546번"
   ]
  },
  {
   "cell_type": "code",
   "execution_count": 41,
   "id": "5630e499",
   "metadata": {},
   "outputs": [
    {
     "name": "stdout",
     "output_type": "stream",
     "text": [
      "3\n",
      "40 80 60\n",
      "75.0\n"
     ]
    }
   ],
   "source": [
    "n = int(input())\n",
    "score = list(map(int, input().split()))\n",
    "max_score = max(score)\n",
    "\n",
    "print(sum(score) / max_score * 100 / n)"
   ]
  }
 ],
 "metadata": {
  "kernelspec": {
   "display_name": "Python 3 (ipykernel)",
   "language": "python",
   "name": "python3"
  },
  "language_info": {
   "codemirror_mode": {
    "name": "ipython",
    "version": 3
   },
   "file_extension": ".py",
   "mimetype": "text/x-python",
   "name": "python",
   "nbconvert_exporter": "python",
   "pygments_lexer": "ipython3",
   "version": "3.9.12"
  }
 },
 "nbformat": 4,
 "nbformat_minor": 5
}
