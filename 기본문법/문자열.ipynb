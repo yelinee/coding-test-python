{
 "cells": [
  {
   "cell_type": "markdown",
   "id": "ae885166",
   "metadata": {},
   "source": [
    "## 문자와 문자열"
   ]
  },
  {
   "cell_type": "markdown",
   "id": "d720ba2e",
   "metadata": {},
   "source": [
    "문제: 27866번"
   ]
  },
  {
   "cell_type": "code",
   "execution_count": 1,
   "id": "0a4711d2",
   "metadata": {},
   "outputs": [
    {
     "name": "stdout",
     "output_type": "stream",
     "text": [
      "Sprout\n",
      "3\n",
      "r\n"
     ]
    }
   ],
   "source": [
    "S = input()\n",
    "i = int(input())\n",
    "\n",
    "print(S[i - 1])"
   ]
  },
  {
   "cell_type": "markdown",
   "id": "f30cbd6c",
   "metadata": {},
   "source": [
    "## 단어 길이 재기"
   ]
  },
  {
   "cell_type": "markdown",
   "id": "ec5171da",
   "metadata": {},
   "source": [
    "문제: 2743번"
   ]
  },
  {
   "cell_type": "code",
   "execution_count": 3,
   "id": "04fb9df4",
   "metadata": {},
   "outputs": [
    {
     "name": "stdout",
     "output_type": "stream",
     "text": [
      "pulljima\n",
      "8\n"
     ]
    }
   ],
   "source": [
    "S = input()\n",
    "print(len(S))"
   ]
  },
  {
   "cell_type": "markdown",
   "id": "e0f7f8d3",
   "metadata": {},
   "source": [
    "## 문자열"
   ]
  },
  {
   "cell_type": "markdown",
   "id": "e212db88",
   "metadata": {},
   "source": [
    "문제: 9086번"
   ]
  },
  {
   "cell_type": "code",
   "execution_count": 4,
   "id": "3a40eac6",
   "metadata": {},
   "outputs": [
    {
     "name": "stdout",
     "output_type": "stream",
     "text": [
      "3\n",
      "ACDKJFOWIEGHE\n",
      "AE\n",
      "0\n",
      "00\n",
      "AB\n",
      "AB\n"
     ]
    }
   ],
   "source": [
    "T = int(input())\n",
    "for i in range(T):\n",
    "    S = input()\n",
    "    print(S[0] + S[len(S) - 1])"
   ]
  },
  {
   "cell_type": "markdown",
   "id": "f9feb139",
   "metadata": {},
   "source": [
    "## 아스키 코드"
   ]
  },
  {
   "cell_type": "markdown",
   "id": "33970ad2",
   "metadata": {},
   "source": [
    "문제: 11654번"
   ]
  },
  {
   "cell_type": "code",
   "execution_count": 5,
   "id": "6939057b",
   "metadata": {},
   "outputs": [
    {
     "name": "stdout",
     "output_type": "stream",
     "text": [
      "A\n",
      "65\n"
     ]
    }
   ],
   "source": [
    "s = input()\n",
    "print(ord(s))"
   ]
  },
  {
   "cell_type": "markdown",
   "id": "98e2c49b",
   "metadata": {},
   "source": [
    "## 숫자의 합"
   ]
  },
  {
   "cell_type": "markdown",
   "id": "f460dd99",
   "metadata": {},
   "source": [
    "문제: 11720번"
   ]
  },
  {
   "cell_type": "code",
   "execution_count": 6,
   "id": "b8878d6e",
   "metadata": {},
   "outputs": [
    {
     "name": "stdout",
     "output_type": "stream",
     "text": [
      "5\n",
      "54321\n",
      "15\n"
     ]
    }
   ],
   "source": [
    "N = int(input())\n",
    "nums = input()\n",
    "total = 0\n",
    "\n",
    "for num in nums:\n",
    "    total += int(num)\n",
    "    \n",
    "print(total)"
   ]
  },
  {
   "cell_type": "code",
   "execution_count": 13,
   "id": "14639163",
   "metadata": {},
   "outputs": [
    {
     "name": "stdout",
     "output_type": "stream",
     "text": [
      "5\n",
      "54321\n",
      "15\n"
     ]
    }
   ],
   "source": [
    "N = int(input())\n",
    "nums = input()\n",
    "total = sum(int(num) for num in nums)\n",
    "print(total)"
   ]
  },
  {
   "cell_type": "markdown",
   "id": "bee090e8",
   "metadata": {},
   "source": [
    "## 알파벳 찾기"
   ]
  },
  {
   "cell_type": "markdown",
   "id": "8273b7e8",
   "metadata": {},
   "source": [
    "문제: 10809번"
   ]
  },
  {
   "cell_type": "code",
   "execution_count": 18,
   "id": "4912ba6a",
   "metadata": {},
   "outputs": [
    {
     "name": "stdout",
     "output_type": "stream",
     "text": [
      "baekjoon\n",
      "1 0 -1 -1 2 -1 -1 -1 -1 4 3 -1 -1 7 5 -1 -1 -1 -1 -1 -1 -1 -1 -1 -1 -1 "
     ]
    }
   ],
   "source": [
    "S = input()\n",
    "for i in range(97, 123):\n",
    "    print(S.find(chr(i)), end = ' ')"
   ]
  },
  {
   "cell_type": "code",
   "execution_count": 19,
   "id": "d03fbdfe",
   "metadata": {},
   "outputs": [
    {
     "name": "stdout",
     "output_type": "stream",
     "text": [
      "baekjoon\n",
      "1 0 -1 -1 2 -1 -1 -1 -1 4 3 -1 -1 7 5 -1 -1 -1 -1 -1 -1 -1 -1 -1 -1 -1 "
     ]
    }
   ],
   "source": [
    "S = input()\n",
    "alpha = 'abcdefghijklmnopqrstuvwxyz'\n",
    "for i in alpha:\n",
    "    print(S.find(i), end = ' ')"
   ]
  },
  {
   "cell_type": "markdown",
   "id": "188aea3d",
   "metadata": {},
   "source": [
    "## 문자열반복"
   ]
  },
  {
   "cell_type": "markdown",
   "id": "b0e7a75a",
   "metadata": {},
   "source": [
    "문제: 2675번"
   ]
  },
  {
   "cell_type": "code",
   "execution_count": 21,
   "id": "91e9875d",
   "metadata": {},
   "outputs": [
    {
     "name": "stdout",
     "output_type": "stream",
     "text": [
      "2\n",
      "3 abc\n",
      "aaabbbccc\n",
      "5 /htp\n",
      "/////hhhhhtttttppppp\n"
     ]
    }
   ],
   "source": [
    "T = int(input())\n",
    "for _ in range(T):\n",
    "    r, s = input().split()\n",
    "    \n",
    "    for i in s:\n",
    "        print(i * int(r), end='')\n",
    "    \n",
    "    print()"
   ]
  },
  {
   "cell_type": "markdown",
   "id": "4aaf6f07",
   "metadata": {},
   "source": [
    "## 단어의 개수"
   ]
  },
  {
   "cell_type": "markdown",
   "id": "14f11f86",
   "metadata": {},
   "source": [
    "문제: 1152번"
   ]
  },
  {
   "cell_type": "code",
   "execution_count": 30,
   "id": "2a646622",
   "metadata": {},
   "outputs": [
    {
     "name": "stdout",
     "output_type": "stream",
     "text": [
      "a b d e d\n",
      "5\n"
     ]
    }
   ],
   "source": [
    "s = input().split()\n",
    "print(len(s))"
   ]
  },
  {
   "cell_type": "markdown",
   "id": "f72637e7",
   "metadata": {},
   "source": [
    "## 상수"
   ]
  },
  {
   "cell_type": "markdown",
   "id": "e3448343",
   "metadata": {},
   "source": [
    "문제: 2908번"
   ]
  },
  {
   "cell_type": "code",
   "execution_count": 24,
   "id": "ae4010b0",
   "metadata": {},
   "outputs": [
    {
     "name": "stdout",
     "output_type": "stream",
     "text": [
      "734 893\n",
      "437\n"
     ]
    }
   ],
   "source": [
    "a, b = input().split()\n",
    "\n",
    "print(max(int(a[::-1]), int(b[::-1])))"
   ]
  },
  {
   "cell_type": "markdown",
   "id": "b077eac4",
   "metadata": {},
   "source": [
    "## 다이얼"
   ]
  },
  {
   "cell_type": "markdown",
   "id": "dec1558a",
   "metadata": {},
   "source": [
    "문제: 5622번"
   ]
  },
  {
   "cell_type": "code",
   "execution_count": 42,
   "id": "4059b967",
   "metadata": {},
   "outputs": [
    {
     "name": "stdout",
     "output_type": "stream",
     "text": [
      "UNUCIC\n",
      "i:  6\n",
      "i:  4\n",
      "i:  6\n",
      "i:  0\n",
      "i:  2\n",
      "i:  0\n",
      "36\n"
     ]
    }
   ],
   "source": [
    "dial = ['ABC', 'DEF', 'GHI', 'JKL', 'MNO', 'PQRS', 'TUV', 'WXYZ']\n",
    "word = input()\n",
    "result = 0\n",
    "\n",
    "for alpha in word:\n",
    "    for i in range(len(dial)):\n",
    "        if alpha in dial[i]:\n",
    "            result += i + 3\n",
    "            print('i: ', i)\n",
    "\n",
    "print(result)"
   ]
  },
  {
   "cell_type": "markdown",
   "id": "860ebad3",
   "metadata": {},
   "source": [
    "## 그대로 출력하기"
   ]
  },
  {
   "cell_type": "markdown",
   "id": "6cb51aba",
   "metadata": {},
   "source": [
    "문제: 11718번"
   ]
  },
  {
   "cell_type": "code",
   "execution_count": 33,
   "id": "98c0748c",
   "metadata": {},
   "outputs": [
    {
     "name": "stdout",
     "output_type": "stream",
     "text": [
      "Hello\n",
      "Hello\n",
      "Baekjoon\n",
      "Baekjoon\n",
      "Online Judge\n",
      "Online Judge\n"
     ]
    }
   ],
   "source": [
    "while 1:\n",
    "    try:\n",
    "        print(input())\n",
    "    except:\n",
    "        break"
   ]
  }
 ],
 "metadata": {
  "kernelspec": {
   "display_name": "Python 3 (ipykernel)",
   "language": "python",
   "name": "python3"
  },
  "language_info": {
   "codemirror_mode": {
    "name": "ipython",
    "version": 3
   },
   "file_extension": ".py",
   "mimetype": "text/x-python",
   "name": "python",
   "nbconvert_exporter": "python",
   "pygments_lexer": "ipython3",
   "version": "3.9.12"
  }
 },
 "nbformat": 4,
 "nbformat_minor": 5
}
