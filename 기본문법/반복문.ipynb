{
 "cells": [
  {
   "cell_type": "markdown",
   "id": "748590cf",
   "metadata": {},
   "source": [
    "## 구구단"
   ]
  },
  {
   "cell_type": "markdown",
   "id": "56f45668",
   "metadata": {},
   "source": [
    "문제: 2739번"
   ]
  },
  {
   "cell_type": "code",
   "execution_count": 11,
   "id": "3e43620c",
   "metadata": {},
   "outputs": [
    {
     "name": "stdout",
     "output_type": "stream",
     "text": [
      "2\n",
      "2 * 1 = 2\n",
      "2 * 2 = 4\n",
      "2 * 3 = 6\n",
      "2 * 4 = 8\n",
      "2 * 5 = 10\n",
      "2 * 6 = 12\n",
      "2 * 7 = 14\n",
      "2 * 8 = 16\n",
      "2 * 9 = 18\n"
     ]
    }
   ],
   "source": [
    "n = int(input())\n",
    "\n",
    "for i in range(1, 10):\n",
    "    print(n, '*', i, '=', n * i)"
   ]
  },
  {
   "cell_type": "markdown",
   "id": "c8607959",
   "metadata": {},
   "source": [
    "## A+B - 3"
   ]
  },
  {
   "cell_type": "markdown",
   "id": "0abc8a51",
   "metadata": {},
   "source": [
    "문제: 10950번"
   ]
  },
  {
   "cell_type": "code",
   "execution_count": 14,
   "id": "f438f40b",
   "metadata": {},
   "outputs": [
    {
     "name": "stdout",
     "output_type": "stream",
     "text": [
      "5\n",
      "1 1\n",
      "2\n",
      "2 3\n",
      "5\n",
      "3 4\n",
      "7\n",
      "9 8\n",
      "17\n",
      "5 2\n",
      "7\n"
     ]
    }
   ],
   "source": [
    "T = int(input())\n",
    "\n",
    "for i in range(T):\n",
    "    a, b = map(int, input().split())\n",
    "    print(a + b)"
   ]
  },
  {
   "cell_type": "markdown",
   "id": "da5d8a1b",
   "metadata": {},
   "source": [
    "## 합"
   ]
  },
  {
   "cell_type": "markdown",
   "id": "983a06fa",
   "metadata": {},
   "source": [
    "문제: 8393번"
   ]
  },
  {
   "cell_type": "code",
   "execution_count": 16,
   "id": "f0bb820e",
   "metadata": {},
   "outputs": [
    {
     "name": "stdout",
     "output_type": "stream",
     "text": [
      "3\n",
      "6\n"
     ]
    }
   ],
   "source": [
    "n = int(input())\n",
    "result = 0\n",
    "\n",
    "for i in range(1, n + 1):\n",
    "    result += i\n",
    "\n",
    "print(result)"
   ]
  },
  {
   "cell_type": "markdown",
   "id": "76b33022",
   "metadata": {},
   "source": [
    "## 영수증"
   ]
  },
  {
   "cell_type": "markdown",
   "id": "0a22c855",
   "metadata": {},
   "source": [
    "문제: 25304번"
   ]
  },
  {
   "cell_type": "code",
   "execution_count": 17,
   "id": "dd1de9d2",
   "metadata": {},
   "outputs": [
    {
     "name": "stdout",
     "output_type": "stream",
     "text": [
      "260000\n",
      "4\n",
      "20000 5\n",
      "30000 2\n",
      "10000 6\n",
      "5000 8\n",
      "Yes\n"
     ]
    }
   ],
   "source": [
    "x = int(input())\n",
    "n = int(input())\n",
    "\n",
    "for i in range(n):\n",
    "    a, b = map(int, input().split())\n",
    "    x -= a * b\n",
    "    \n",
    "if x == 0:\n",
    "    print('Yes')\n",
    "else:\n",
    "    print('No')"
   ]
  },
  {
   "cell_type": "markdown",
   "id": "910b2be5",
   "metadata": {},
   "source": [
    "## 코딩은 체육과목 입니다"
   ]
  },
  {
   "cell_type": "markdown",
   "id": "4c6b4c80",
   "metadata": {},
   "source": [
    "문제: 25314번"
   ]
  },
  {
   "cell_type": "code",
   "execution_count": 18,
   "id": "f79c0111",
   "metadata": {},
   "outputs": [
    {
     "name": "stdout",
     "output_type": "stream",
     "text": [
      "4\n",
      "long int\n"
     ]
    }
   ],
   "source": [
    "n = int(input())\n",
    "count = n // 4\n",
    "print('long ' * count + 'int')"
   ]
  },
  {
   "cell_type": "markdown",
   "id": "b707f612",
   "metadata": {},
   "source": [
    "## 빠른 A+B"
   ]
  },
  {
   "cell_type": "markdown",
   "id": "fcda9e34",
   "metadata": {},
   "source": [
    "문제: 15552번"
   ]
  },
  {
   "cell_type": "code",
   "execution_count": 23,
   "id": "0f8f3b79",
   "metadata": {},
   "outputs": [
    {
     "name": "stdout",
     "output_type": "stream",
     "text": [
      "5\n"
     ]
    },
    {
     "ename": "ValueError",
     "evalue": "not enough values to unpack (expected 2, got 0)",
     "output_type": "error",
     "traceback": [
      "\u001b[1;31m---------------------------------------------------------------------------\u001b[0m",
      "\u001b[1;31mValueError\u001b[0m                                Traceback (most recent call last)",
      "Input \u001b[1;32mIn [23]\u001b[0m, in \u001b[0;36m<cell line: 4>\u001b[1;34m()\u001b[0m\n\u001b[0;32m      3\u001b[0m t \u001b[38;5;241m=\u001b[39m \u001b[38;5;28mint\u001b[39m(\u001b[38;5;28minput\u001b[39m())\n\u001b[0;32m      4\u001b[0m \u001b[38;5;28;01mfor\u001b[39;00m i \u001b[38;5;129;01min\u001b[39;00m \u001b[38;5;28mrange\u001b[39m(t):\n\u001b[1;32m----> 5\u001b[0m     a, b \u001b[38;5;241m=\u001b[39m \u001b[38;5;28mmap\u001b[39m(\u001b[38;5;28mint\u001b[39m, sys\u001b[38;5;241m.\u001b[39mstdin\u001b[38;5;241m.\u001b[39mreadline()\u001b[38;5;241m.\u001b[39mrstrip()\u001b[38;5;241m.\u001b[39msplit())\n\u001b[0;32m      6\u001b[0m     \u001b[38;5;28mprint\u001b[39m(a \u001b[38;5;241m+\u001b[39m b)\n",
      "\u001b[1;31mValueError\u001b[0m: not enough values to unpack (expected 2, got 0)"
     ]
    }
   ],
   "source": [
    "import sys\n",
    "\n",
    "t = int(input())\n",
    "for i in range(t):\n",
    "    a, b = map(int, sys.stdin.readline().rstrip().split())\n",
    "    print(a + b)"
   ]
  },
  {
   "cell_type": "markdown",
   "id": "612f3e01",
   "metadata": {},
   "source": [
    "## A+B - 7"
   ]
  },
  {
   "cell_type": "markdown",
   "id": "a67a3aa3",
   "metadata": {},
   "source": [
    "문제: 11021번"
   ]
  },
  {
   "cell_type": "markdown",
   "id": "b3b400e9",
   "metadata": {},
   "source": [
    "링크: https://www.acmicpc.net/problem/11021"
   ]
  },
  {
   "cell_type": "code",
   "execution_count": 1,
   "id": "903e2ef5",
   "metadata": {},
   "outputs": [
    {
     "name": "stdout",
     "output_type": "stream",
     "text": [
      "5\n",
      "1 1\n",
      "Case #1: 2\n",
      "2 3\n",
      "Case #2: 5\n",
      "3 4\n",
      "Case #3: 7\n",
      "9 8\n",
      "Case #4: 17\n",
      "5 2\n",
      "Case #5: 7\n"
     ]
    }
   ],
   "source": [
    "t = int(input())\n",
    "for i in range(1, t + 1):\n",
    "    a, b = map(int, input().split())\n",
    "    print(f\"Case #{i}: {a + b}\")"
   ]
  },
  {
   "cell_type": "markdown",
   "id": "6ed7050d",
   "metadata": {},
   "source": [
    "## A+B - 8"
   ]
  },
  {
   "cell_type": "markdown",
   "id": "06a1c897",
   "metadata": {},
   "source": [
    "문제: 11022"
   ]
  },
  {
   "cell_type": "markdown",
   "id": "7b336a0d",
   "metadata": {},
   "source": [
    "링크: https://www.acmicpc.net/problem/11022"
   ]
  },
  {
   "cell_type": "code",
   "execution_count": 2,
   "id": "985d6677",
   "metadata": {},
   "outputs": [
    {
     "name": "stdout",
     "output_type": "stream",
     "text": [
      "5\n",
      "1 1\n",
      "Case #1: 1 + 1 = 2\n",
      "2 3\n",
      "Case #2: 2 + 3 = 5\n",
      "3 4\n",
      "Case #3: 3 + 4 = 7\n",
      "9 8\n",
      "Case #4: 9 + 8 = 17\n",
      "5 2\n",
      "Case #5: 5 + 2 = 7\n"
     ]
    }
   ],
   "source": [
    "t = int(input())\n",
    "\n",
    "for i in range(1, t + 1):\n",
    "    a, b = map(int, input().split())\n",
    "    print(f\"Case #{i}: {a} + {b} = {a + b}\")"
   ]
  },
  {
   "cell_type": "markdown",
   "id": "92e359f9",
   "metadata": {},
   "source": [
    "## 별 찍기 - 1"
   ]
  },
  {
   "cell_type": "markdown",
   "id": "18093159",
   "metadata": {},
   "source": [
    "문제: 2438번"
   ]
  },
  {
   "cell_type": "markdown",
   "id": "a9b2aea5",
   "metadata": {},
   "source": [
    "링크: https://www.acmicpc.net/problem/2438"
   ]
  },
  {
   "cell_type": "code",
   "execution_count": 4,
   "id": "78e7e374",
   "metadata": {},
   "outputs": [
    {
     "name": "stdout",
     "output_type": "stream",
     "text": [
      "5\n",
      "*\n",
      "**\n",
      "***\n",
      "****\n",
      "*****\n"
     ]
    }
   ],
   "source": [
    "n = int(input())\n",
    "\n",
    "for i in range(1, n + 1):\n",
    "    print('*' * i)"
   ]
  },
  {
   "cell_type": "markdown",
   "id": "4cafb9a0",
   "metadata": {},
   "source": [
    "## 별 찍기 - 2"
   ]
  },
  {
   "cell_type": "markdown",
   "id": "9003f75d",
   "metadata": {},
   "source": [
    "문제: 2439번"
   ]
  },
  {
   "cell_type": "code",
   "execution_count": 5,
   "id": "9bf95edd",
   "metadata": {},
   "outputs": [
    {
     "name": "stdout",
     "output_type": "stream",
     "text": [
      "5\n",
      "    *\n",
      "   **\n",
      "  ***\n",
      " ****\n",
      "*****\n"
     ]
    }
   ],
   "source": [
    "n = int(input())\n",
    "\n",
    "for i in range(1, n + 1):\n",
    "    print(' ' * (n - i) + '*' * i)"
   ]
  },
  {
   "cell_type": "markdown",
   "id": "8645d8e6",
   "metadata": {},
   "source": [
    "## A+B - 5"
   ]
  },
  {
   "cell_type": "markdown",
   "id": "f425e111",
   "metadata": {},
   "source": [
    "문제: 10952번"
   ]
  },
  {
   "cell_type": "code",
   "execution_count": 8,
   "id": "8a06cb26",
   "metadata": {},
   "outputs": [
    {
     "name": "stdout",
     "output_type": "stream",
     "text": [
      "1 1\n",
      "2\n",
      "2 3\n",
      "5\n",
      "3 4\n",
      "7\n",
      "9 8\n",
      "17\n",
      "5 2\n",
      "7\n",
      "0 0\n"
     ]
    }
   ],
   "source": [
    "while 1:\n",
    "    a, b = map(int, input().split())\n",
    "    if a == 0 and b == 0:\n",
    "        break\n",
    "    print(a + b)"
   ]
  },
  {
   "cell_type": "markdown",
   "id": "d85b5327",
   "metadata": {},
   "source": [
    "## A+B - 4"
   ]
  },
  {
   "cell_type": "markdown",
   "id": "2e992593",
   "metadata": {},
   "source": [
    "문제: 10951번"
   ]
  },
  {
   "cell_type": "code",
   "execution_count": 9,
   "id": "b4f892a5",
   "metadata": {},
   "outputs": [
    {
     "name": "stdout",
     "output_type": "stream",
     "text": [
      "1 1\n",
      "2\n",
      "2 3\n",
      "5\n",
      "3 4\n",
      "7\n",
      "9 8\n",
      "17\n",
      "5 2\n",
      "7\n",
      "\n"
     ]
    }
   ],
   "source": [
    "while 1:\n",
    "    try:\n",
    "        a, b = map(int, input().split())\n",
    "        print(a + b)\n",
    "    except:\n",
    "        break"
   ]
  },
  {
   "cell_type": "code",
   "execution_count": null,
   "id": "9629565d",
   "metadata": {},
   "outputs": [],
   "source": []
  }
 ],
 "metadata": {
  "kernelspec": {
   "display_name": "Python 3 (ipykernel)",
   "language": "python",
   "name": "python3"
  },
  "language_info": {
   "codemirror_mode": {
    "name": "ipython",
    "version": 3
   },
   "file_extension": ".py",
   "mimetype": "text/x-python",
   "name": "python",
   "nbconvert_exporter": "python",
   "pygments_lexer": "ipython3",
   "version": "3.9.12"
  }
 },
 "nbformat": 4,
 "nbformat_minor": 5
}
