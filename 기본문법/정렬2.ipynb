{
 "cells": [
  {
   "cell_type": "markdown",
   "id": "f7d5a78c",
   "metadata": {},
   "source": [
    "## 소트인사이드"
   ]
  },
  {
   "cell_type": "markdown",
   "id": "dc6f85c3",
   "metadata": {},
   "source": [
    "문제: 1427번"
   ]
  },
  {
   "cell_type": "code",
   "execution_count": 1,
   "id": "ea2aefa2",
   "metadata": {},
   "outputs": [
    {
     "name": "stdout",
     "output_type": "stream",
     "text": [
      "2143\n",
      "4321\n"
     ]
    }
   ],
   "source": [
    "arr = input()\n",
    "print(*(sorted(arr, reverse=True)), sep='')"
   ]
  },
  {
   "cell_type": "markdown",
   "id": "fc66ec65",
   "metadata": {},
   "source": [
    "## 좌표 정렬하기"
   ]
  },
  {
   "cell_type": "markdown",
   "id": "31cea914",
   "metadata": {},
   "source": [
    "문제: 11650번"
   ]
  },
  {
   "cell_type": "code",
   "execution_count": null,
   "id": "576758fe",
   "metadata": {},
   "outputs": [],
   "source": [
    "import sys\n",
    "\n",
    "n = int(input())\n",
    "dots = []\n",
    "for _ in range(n):\n",
    "    dots.append(list(map(int, sys.stdin.readline().split())))\n",
    "        \n",
    "dots.sort(key=lambda x: (x[0], x[1]))\n",
    "        \n",
    "for i in range(n):\n",
    "    print(dots[i][0], dots[i][1])"
   ]
  },
  {
   "cell_type": "code",
   "execution_count": null,
   "id": "7dc784c8",
   "metadata": {},
   "outputs": [],
   "source": [
    "import sys\n",
    "\n",
    "n = int(input())\n",
    "dots = []\n",
    "for _ in range(n):\n",
    "    dots.append(list(map(int, sys.stdin.readline().split())))\n",
    "        \n",
    "dots.sort()\n",
    "        \n",
    "for i in range(n):\n",
    "    print(dots[i][0], dots[i][1])"
   ]
  },
  {
   "cell_type": "markdown",
   "id": "195d5538",
   "metadata": {},
   "source": [
    "sort()는 기본적으로 첫 번째 요소를 기준으로 오름차순 정렬하고 그 다음 요소로 자동 비교해서 정렬하기 때문에 key에 대한 부분을 생략 가능하다."
   ]
  },
  {
   "cell_type": "markdown",
   "id": "9544056e",
   "metadata": {},
   "source": [
    "## 좌표 정렬하기 2"
   ]
  },
  {
   "cell_type": "markdown",
   "id": "76cc270d",
   "metadata": {},
   "source": [
    "문제: 11651번"
   ]
  },
  {
   "cell_type": "code",
   "execution_count": null,
   "id": "17a9bc0a",
   "metadata": {},
   "outputs": [],
   "source": [
    "import sys\n",
    "\n",
    "dots = []\n",
    "n = int(input())\n",
    "for _ in range(n):\n",
    "    dots.append(list(map(int, sys.stdin.readline().split())))\n",
    "        \n",
    "dots.sort(key=lambda x: (x[1], x[0]))\n",
    "        \n",
    "for i in range(n):\n",
    "    print(dots[i][0], dots[i][1])"
   ]
  },
  {
   "cell_type": "markdown",
   "id": "db4f4275",
   "metadata": {},
   "source": [
    "## 단어 정렬"
   ]
  },
  {
   "cell_type": "markdown",
   "id": "724d7a34",
   "metadata": {},
   "source": [
    "문제: 1181번"
   ]
  },
  {
   "cell_type": "code",
   "execution_count": null,
   "id": "2383fa23",
   "metadata": {},
   "outputs": [],
   "source": [
    "import sys\n",
    "\n",
    "n = int(input())\n",
    "words = set()\n",
    "for _ in range(n):\n",
    "    words.add(sys.stdin.readline().rstrip())\n",
    "\n",
    "words = list(words)\n",
    "words.sort()\n",
    "words.sort(key=len)\n",
    "        \n",
    "print(*words, sep='\\n')"
   ]
  },
  {
   "cell_type": "markdown",
   "id": "0772e7c2",
   "metadata": {},
   "source": [
    "## 나이순 정렬"
   ]
  },
  {
   "cell_type": "markdown",
   "id": "0347575b",
   "metadata": {},
   "source": [
    "문제: 10814번"
   ]
  },
  {
   "cell_type": "code",
   "execution_count": null,
   "id": "b7adfaf2",
   "metadata": {},
   "outputs": [],
   "source": [
    "import sys\n",
    "\n",
    "n = int(input())\n",
    "lst = []\n",
    "for _ in range(n):\n",
    "    age, name = sys.stdin.readline().strip().split()\n",
    "    lst.append([int(age), name])\n",
    "        \n",
    "lst.sort(key=lambda x:x[0])\n",
    "\n",
    "for i in range(n):\n",
    "    print(lst[i][0], lst[i][1])"
   ]
  },
  {
   "cell_type": "markdown",
   "id": "5c24b2f5",
   "metadata": {},
   "source": [
    "## 좌표 압축"
   ]
  },
  {
   "cell_type": "markdown",
   "id": "ee2a78d2",
   "metadata": {},
   "source": [
    "문제: 18870번"
   ]
  },
  {
   "cell_type": "code",
   "execution_count": 20,
   "id": "4e52c258",
   "metadata": {},
   "outputs": [
    {
     "name": "stdout",
     "output_type": "stream",
     "text": [
      "5\n",
      "2 4 -10 4 -9\n",
      "2 3 0 3 1 "
     ]
    }
   ],
   "source": [
    "n = int(input())\n",
    "dots = list(map(int, input().split()))\n",
    "dots2 = sorted(list(set(dots)))\n",
    "\n",
    "dic = {dots2[i] : i for i in range(len(dots2))}\n",
    "\n",
    "for i in dots:\n",
    "    print(dic[i], end=' ')"
   ]
  },
  {
   "cell_type": "code",
   "execution_count": null,
   "id": "b763f9f9",
   "metadata": {},
   "outputs": [],
   "source": []
  }
 ],
 "metadata": {
  "kernelspec": {
   "display_name": "Python 3 (ipykernel)",
   "language": "python",
   "name": "python3"
  },
  "language_info": {
   "codemirror_mode": {
    "name": "ipython",
    "version": 3
   },
   "file_extension": ".py",
   "mimetype": "text/x-python",
   "name": "python",
   "nbconvert_exporter": "python",
   "pygments_lexer": "ipython3",
   "version": "3.9.12"
  }
 },
 "nbformat": 4,
 "nbformat_minor": 5
}
