{
 "cells": [
  {
   "cell_type": "markdown",
   "id": "0e8768c1",
   "metadata": {},
   "source": [
    "## 직사각형"
   ]
  },
  {
   "cell_type": "markdown",
   "id": "402377df",
   "metadata": {},
   "source": [
    "문제: 27323번"
   ]
  },
  {
   "cell_type": "code",
   "execution_count": 1,
   "id": "95ce1beb",
   "metadata": {},
   "outputs": [
    {
     "name": "stdout",
     "output_type": "stream",
     "text": [
      "2\n",
      "3\n",
      "6\n"
     ]
    }
   ],
   "source": [
    "a = int(input())\n",
    "b = int(input())\n",
    "\n",
    "print(a * b)"
   ]
  },
  {
   "cell_type": "markdown",
   "id": "7bebbb42",
   "metadata": {},
   "source": [
    "## 직사각형에서 탈출"
   ]
  },
  {
   "cell_type": "markdown",
   "id": "008aec03",
   "metadata": {},
   "source": [
    "문제: 1085번"
   ]
  },
  {
   "cell_type": "code",
   "execution_count": 2,
   "id": "f60b94e8",
   "metadata": {},
   "outputs": [
    {
     "name": "stdout",
     "output_type": "stream",
     "text": [
      "6 2 10 3\n",
      "1\n"
     ]
    }
   ],
   "source": [
    "x, y, w, h = map(int, input().split())\n",
    "\n",
    "d = [x, y, w - x, h - y]\n",
    "\n",
    "print(min(d))"
   ]
  },
  {
   "cell_type": "markdown",
   "id": "fbcf6d15",
   "metadata": {},
   "source": [
    "## 네 번째 점"
   ]
  },
  {
   "cell_type": "markdown",
   "id": "f696eb22",
   "metadata": {},
   "source": [
    "문제: 3009번"
   ]
  },
  {
   "cell_type": "code",
   "execution_count": 5,
   "id": "e4feba8e",
   "metadata": {},
   "outputs": [
    {
     "name": "stdout",
     "output_type": "stream",
     "text": [
      "5 5\n",
      "5 7\n",
      "7 5\n",
      "7 7\n"
     ]
    }
   ],
   "source": [
    "x = []\n",
    "y = []\n",
    "\n",
    "for _ in range(3):\n",
    "    a, b = map(int, input().split())\n",
    "    x.append(a)\n",
    "    y.append(b)\n",
    "    \n",
    "for i in range(3):\n",
    "    if x.count(x[i]) == 1:\n",
    "        x4 = x[i]\n",
    "    if y.count(y[i]) == 1:\n",
    "        y4 = y[i]\n",
    "\n",
    "print(x4, y4)"
   ]
  },
  {
   "cell_type": "markdown",
   "id": "5a5e2fab",
   "metadata": {},
   "source": [
    "## 수학은 체육과목 입니다"
   ]
  },
  {
   "cell_type": "markdown",
   "id": "11f5855b",
   "metadata": {},
   "source": [
    "문제: 15894번"
   ]
  },
  {
   "cell_type": "code",
   "execution_count": 6,
   "id": "904ef543",
   "metadata": {},
   "outputs": [
    {
     "name": "stdout",
     "output_type": "stream",
     "text": [
      "3\n",
      "12\n"
     ]
    }
   ],
   "source": [
    "n = int(input())\n",
    "\n",
    "print(n * 4)"
   ]
  },
  {
   "cell_type": "markdown",
   "id": "e67c6855",
   "metadata": {},
   "source": [
    "## 대지"
   ]
  },
  {
   "cell_type": "markdown",
   "id": "0df575d6",
   "metadata": {},
   "source": [
    "문제: 9063번"
   ]
  },
  {
   "cell_type": "code",
   "execution_count": 10,
   "id": "1704adfd",
   "metadata": {},
   "outputs": [
    {
     "name": "stdout",
     "output_type": "stream",
     "text": [
      "4\n",
      "2 1\n",
      "3 2\n",
      "5 2\n",
      "3 4\n",
      "9\n"
     ]
    }
   ],
   "source": [
    "x = []\n",
    "y = []\n",
    "\n",
    "n = int(input())\n",
    "for _ in range(n):\n",
    "    a, b = map(int, input().split())\n",
    "    x.append(a)\n",
    "    y.append(b)\n",
    "\n",
    "if n == 1:\n",
    "    print(0)\n",
    "else:\n",
    "    print((max(x) - min(x)) * (max(y) - min(y)))"
   ]
  },
  {
   "cell_type": "code",
   "execution_count": 12,
   "id": "2324b62a",
   "metadata": {},
   "outputs": [
    {
     "name": "stdout",
     "output_type": "stream",
     "text": [
      "3\n",
      "20 24\n",
      "40 21\n",
      "10 12\n",
      "360\n"
     ]
    }
   ],
   "source": [
    "x = set()\n",
    "y = set()\n",
    "n = int(input())\n",
    "\n",
    "if n == 1:\n",
    "    print(0)\n",
    "else:\n",
    "    for _ in range(n):\n",
    "        a, b = map(int, input().split())\n",
    "        x.add(a)\n",
    "        y.add(b)\n",
    "        \n",
    "    print((max(x) - min(x)) * (max(y) - min(y)))"
   ]
  },
  {
   "cell_type": "markdown",
   "id": "3fd357ba",
   "metadata": {},
   "source": [
    "set 자료형을 사용하여 중복을 제거하면 소요 시간이 단축될까 싶었으나 거의 차이가 없음. 오히려 늘어난 모습을 보였다."
   ]
  },
  {
   "cell_type": "markdown",
   "id": "a2d5675b",
   "metadata": {},
   "source": [
    "## 삼각형 외우기"
   ]
  },
  {
   "cell_type": "markdown",
   "id": "285264b9",
   "metadata": {},
   "source": [
    "문제: 10101번"
   ]
  },
  {
   "cell_type": "code",
   "execution_count": 13,
   "id": "15ead510",
   "metadata": {},
   "outputs": [
    {
     "name": "stdout",
     "output_type": "stream",
     "text": [
      "60\n",
      "70\n",
      "50\n",
      "Scalene\n"
     ]
    }
   ],
   "source": [
    "lst = []\n",
    "for _ in range(3):\n",
    "    lst.append(int(input()))\n",
    "    \n",
    "if sum(lst) != 180:\n",
    "    print(\"Error\")\n",
    "elif lst.count(60) == 3:\n",
    "    print(\"Equilateral\")\n",
    "elif lst.count(lst[0]) == 2 or lst.count(lst[1]) == 2:\n",
    "    print(\"Isosceles\")\n",
    "else:\n",
    "    print(\"Scalene\")"
   ]
  },
  {
   "cell_type": "code",
   "execution_count": 15,
   "id": "a46b0543",
   "metadata": {},
   "outputs": [
    {
     "name": "stdout",
     "output_type": "stream",
     "text": [
      "1 0 0\n",
      "0 1 3\n",
      "0 0 0\n",
      "모두 0\n"
     ]
    }
   ],
   "source": [
    "while True:\n",
    "    a, b, c = map(int, input().split())\n",
    "    if a == b == c == 0:\n",
    "        print(\"모두 0\")\n",
    "        break"
   ]
  },
  {
   "cell_type": "markdown",
   "id": "18ccd5bb",
   "metadata": {},
   "source": [
    "## 삼각형과 세 변"
   ]
  },
  {
   "cell_type": "markdown",
   "id": "2f6504f2",
   "metadata": {},
   "source": [
    "문제: 5073번"
   ]
  },
  {
   "cell_type": "code",
   "execution_count": 20,
   "id": "fc1d7cb1",
   "metadata": {},
   "outputs": [
    {
     "name": "stdout",
     "output_type": "stream",
     "text": [
      "7 7 7\n",
      "Equilateral\n",
      "6 5 4\n",
      "Scalene\n",
      "3 2 5\n",
      "Invalid\n",
      "6 2 6\n",
      "Isosceles\n",
      "0 0 0\n"
     ]
    }
   ],
   "source": [
    "while True:\n",
    "    a, b, c = map(int, input().split())\n",
    "    if a == b == c == 0:\n",
    "        break\n",
    "    if max(a, b, c) >= (a + b + c) - max(a, b, c):\n",
    "        print(\"Invalid\")\n",
    "    elif a == b == c:\n",
    "        print(\"Equilateral\")\n",
    "    elif a == b or a == c or b == c:\n",
    "        print(\"Isosceles\")\n",
    "    else:\n",
    "        print(\"Scalene\")"
   ]
  },
  {
   "cell_type": "code",
   "execution_count": 24,
   "id": "eb235914",
   "metadata": {},
   "outputs": [
    {
     "name": "stdout",
     "output_type": "stream",
     "text": [
      "41 64 16\n",
      "113\n"
     ]
    }
   ],
   "source": [
    "a, b, c = map(int, input().split())\n",
    "\n",
    "if max(a, b, c) < (a + b + c) - max(a, b, c):\n",
    "    print(a + b + c)\n",
    "else:\n",
    "    print(((a + b + c) - max(a, b, c)) * 2 -1)"
   ]
  },
  {
   "cell_type": "code",
   "execution_count": null,
   "id": "e465b639",
   "metadata": {},
   "outputs": [],
   "source": []
  }
 ],
 "metadata": {
  "kernelspec": {
   "display_name": "Python 3 (ipykernel)",
   "language": "python",
   "name": "python3"
  },
  "language_info": {
   "codemirror_mode": {
    "name": "ipython",
    "version": 3
   },
   "file_extension": ".py",
   "mimetype": "text/x-python",
   "name": "python",
   "nbconvert_exporter": "python",
   "pygments_lexer": "ipython3",
   "version": "3.9.12"
  }
 },
 "nbformat": 4,
 "nbformat_minor": 5
}
