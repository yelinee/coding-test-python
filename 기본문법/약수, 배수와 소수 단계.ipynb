{
 "cells": [
  {
   "cell_type": "markdown",
   "id": "39ae4fc4",
   "metadata": {},
   "source": [
    "## 배수와 약수"
   ]
  },
  {
   "cell_type": "markdown",
   "id": "d4b72859",
   "metadata": {},
   "source": [
    "문제: 5086번"
   ]
  },
  {
   "cell_type": "code",
   "execution_count": 3,
   "id": "b0f38013",
   "metadata": {},
   "outputs": [
    {
     "name": "stdout",
     "output_type": "stream",
     "text": [
      "8 16\n",
      "factor\n",
      "32 4\n",
      "multiple\n",
      "17 5\n",
      "neither\n",
      "0 0\n"
     ]
    }
   ],
   "source": [
    "while 1:\n",
    "    a, b = map(int, input().split())\n",
    "    if a == 0 and b == 0:\n",
    "        break\n",
    "    elif b % a == 0:\n",
    "        print(\"factor\")\n",
    "    elif a % b == 0:\n",
    "        print(\"multiple\")\n",
    "    else:\n",
    "        print(\"neither\")"
   ]
  },
  {
   "cell_type": "markdown",
   "id": "2f14c59e",
   "metadata": {},
   "source": [
    "## 약수 구하기"
   ]
  },
  {
   "cell_type": "markdown",
   "id": "f55065da",
   "metadata": {},
   "source": [
    "문제: 2501번"
   ]
  },
  {
   "cell_type": "code",
   "execution_count": 11,
   "id": "1ef12df0",
   "metadata": {},
   "outputs": [
    {
     "name": "stdout",
     "output_type": "stream",
     "text": [
      "2735 1\n",
      "1\n"
     ]
    }
   ],
   "source": [
    "n, k = map(int, input().split())\n",
    "count = 0\n",
    "for i in range(1, n + 1):\n",
    "    if n % i == 0:\n",
    "        count += 1\n",
    "        if count == k:\n",
    "            print(i)\n",
    "            break\n",
    "            \n",
    "if count < k:\n",
    "    print(0)"
   ]
  },
  {
   "cell_type": "code",
   "execution_count": 15,
   "id": "917d8320",
   "metadata": {},
   "outputs": [
    {
     "name": "stdout",
     "output_type": "stream",
     "text": [
      "6 3\n",
      "3\n"
     ]
    }
   ],
   "source": [
    "n, k = map(int, input().split())\n",
    "factors = []\n",
    "for i in range(1, n // 2 + 1):\n",
    "    if n % i == 0:\n",
    "          factors.append(i)\n",
    "            \n",
    "factors.append(n)\n",
    "\n",
    "if len(factors) < k:\n",
    "    print(0)\n",
    "else:\n",
    "    print(factors[k - 1])"
   ]
  },
  {
   "cell_type": "markdown",
   "id": "b009c4bb",
   "metadata": {},
   "source": [
    "약수의 특성상 1과 자기 자신을 제외하고서 가장 큰 수는 2로 나눈 수이다. 해당 특성을 사용해서 for의 범위를 줄일 수 있다. 그러나, 첫 번째 방법은 k번 째 수를 발견한 순간 반복문을 끝내기 때문에 두 번째 방법과의 실행 시간이 거의 차이가 없다."
   ]
  },
  {
   "cell_type": "markdown",
   "id": "d1918c31",
   "metadata": {},
   "source": [
    "## 약수들의 합"
   ]
  },
  {
   "cell_type": "markdown",
   "id": "bd00eadb",
   "metadata": {},
   "source": [
    "문제: 9506번"
   ]
  },
  {
   "cell_type": "code",
   "execution_count": 19,
   "id": "24080f3c",
   "metadata": {},
   "outputs": [
    {
     "name": "stdout",
     "output_type": "stream",
     "text": [
      "6\n",
      "6 = 1 + 2 + 3\n",
      "12\n",
      "12 is NOT perfect.\n",
      "28\n",
      "28 = 1 + 2 + 4 + 7 + 14\n",
      "-1\n"
     ]
    }
   ],
   "source": [
    "while True:\n",
    "    n = int(input())\n",
    "    factors = []\n",
    "    if n == -1:\n",
    "        break\n",
    "    for i in range(1, n // 2 + 1):\n",
    "        if n % i == 0:\n",
    "            factors.append(i)\n",
    "    \n",
    "    if sum(factors) == n:\n",
    "        expression = \" + \".join(map(str, factors))\n",
    "        print(f\"{n} = {expression}\")\n",
    "    else:\n",
    "        print(f\"{n} is NOT perfect.\")"
   ]
  },
  {
   "cell_type": "markdown",
   "id": "715086de",
   "metadata": {},
   "source": [
    "## 소수 찾기"
   ]
  },
  {
   "cell_type": "markdown",
   "id": "fa857224",
   "metadata": {},
   "source": [
    "문제: 1978번"
   ]
  },
  {
   "cell_type": "code",
   "execution_count": 24,
   "id": "1b882482",
   "metadata": {},
   "outputs": [
    {
     "name": "stdout",
     "output_type": "stream",
     "text": [
      "4\n",
      "1 3 5 7\n",
      "3\n"
     ]
    }
   ],
   "source": [
    "n = int(input())\n",
    "nums = list(map(int, input().split()))\n",
    "count = n\n",
    "\n",
    "for i in range(n):\n",
    "    if nums[i] == 1:\n",
    "        count -= 1\n",
    "    else:\n",
    "        for j in range(2, nums[i] // 2 + 1):\n",
    "            if nums[i] % j == 0:\n",
    "                count -= 1\n",
    "                break\n",
    "print(count)"
   ]
  },
  {
   "cell_type": "markdown",
   "id": "b3158aec",
   "metadata": {},
   "source": [
    "## 소수"
   ]
  },
  {
   "cell_type": "markdown",
   "id": "cc714049",
   "metadata": {},
   "source": [
    "문제: 2581번"
   ]
  },
  {
   "cell_type": "code",
   "execution_count": 36,
   "id": "52dbdf8a",
   "metadata": {},
   "outputs": [
    {
     "name": "stdout",
     "output_type": "stream",
     "text": [
      "64\n",
      "65\n",
      "-1\n"
     ]
    }
   ],
   "source": [
    "m = int(input())\n",
    "n = int(input())\n",
    "nums = []\n",
    "\n",
    "for i in range(m, n+1):\n",
    "    if i < 2:\n",
    "        continue\n",
    "    is_prime = True\n",
    "    for j in range(2, int(i**0.5)+1):\n",
    "        if i % j == 0:\n",
    "            is_prime = False\n",
    "            break\n",
    "    if is_prime:\n",
    "        nums.append(i)\n",
    "\n",
    "if len(nums) == 0:\n",
    "    print(-1)\n",
    "else:\n",
    "    print(sum(nums))\n",
    "    print(min(nums))"
   ]
  },
  {
   "cell_type": "markdown",
   "id": "650b8c57",
   "metadata": {},
   "source": [
    "## 소인수분해"
   ]
  },
  {
   "cell_type": "markdown",
   "id": "47942a39",
   "metadata": {},
   "source": [
    "문제: 11653번"
   ]
  },
  {
   "cell_type": "code",
   "execution_count": 45,
   "id": "b594ff98",
   "metadata": {},
   "outputs": [
    {
     "name": "stdout",
     "output_type": "stream",
     "text": [
      "72\n",
      "2\n",
      "2\n",
      "2\n",
      "3\n",
      "3\n"
     ]
    }
   ],
   "source": [
    "n = int(input())\n",
    "i = 2\n",
    "\n",
    "while i * i <= n:\n",
    "    while n % i == 0:\n",
    "        print(i)\n",
    "        n //= i\n",
    "    i += 1\n",
    "if n > 1:\n",
    "    print(n)"
   ]
  }
 ],
 "metadata": {
  "kernelspec": {
   "display_name": "Python 3 (ipykernel)",
   "language": "python",
   "name": "python3"
  },
  "language_info": {
   "codemirror_mode": {
    "name": "ipython",
    "version": 3
   },
   "file_extension": ".py",
   "mimetype": "text/x-python",
   "name": "python",
   "nbconvert_exporter": "python",
   "pygments_lexer": "ipython3",
   "version": "3.9.12"
  }
 },
 "nbformat": 4,
 "nbformat_minor": 5
}
