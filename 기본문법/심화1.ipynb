{
 "cells": [
  {
   "cell_type": "markdown",
   "id": "83c7f271",
   "metadata": {},
   "source": [
    "## 새싹"
   ]
  },
  {
   "cell_type": "markdown",
   "id": "c97c56ee",
   "metadata": {},
   "source": [
    "문제: 25083번"
   ]
  },
  {
   "cell_type": "code",
   "execution_count": 1,
   "id": "9807a2e9",
   "metadata": {},
   "outputs": [
    {
     "name": "stdout",
     "output_type": "stream",
     "text": [
      "         ,r'\"7\n",
      "r`-_   ,'  ,/\n",
      " \\. \". L_r'\n",
      "   `~\\/\n",
      "      |\n",
      "      |\n"
     ]
    }
   ],
   "source": [
    "print(\"         ,r'\\\"7\")\n",
    "print(\"r`-_   ,'  ,/\")\n",
    "print(\" \\\\. \\\". L_r'\")\n",
    "print(\"   `~\\\\/\")\n",
    "print(\"      |\")\n",
    "print(\"      |\")"
   ]
  },
  {
   "cell_type": "markdown",
   "id": "931b7131",
   "metadata": {},
   "source": [
    "## 킹, 퀸, 룩, 비숍, 나이트, 폰"
   ]
  },
  {
   "cell_type": "markdown",
   "id": "34c30fd9",
   "metadata": {},
   "source": [
    "문제: 3003번"
   ]
  },
  {
   "cell_type": "code",
   "execution_count": 6,
   "id": "d1874148",
   "metadata": {},
   "outputs": [
    {
     "name": "stdout",
     "output_type": "stream",
     "text": [
      "0 1 2 2 2 7\n",
      "1 0 0 0 0 1 "
     ]
    }
   ],
   "source": [
    "pieces = [1, 1, 2, 2, 2, 8]\n",
    "find = list(map(int, input().split()))\n",
    "\n",
    "for i in range(len(pieces)):\n",
    "    print(pieces[i] - find[i], end=\" \")"
   ]
  },
  {
   "cell_type": "markdown",
   "id": "0f740485",
   "metadata": {},
   "source": [
    "## 별 찍기 - 7"
   ]
  },
  {
   "cell_type": "markdown",
   "id": "19d4801c",
   "metadata": {},
   "source": [
    "문제: 2444번"
   ]
  },
  {
   "cell_type": "code",
   "execution_count": null,
   "id": "a806b089",
   "metadata": {},
   "outputs": [],
   "source": [
    "n = int(input())\n",
    "\n",
    "for i in range(1, n + 1):\n",
    "    print(\" \" * (n - i), end=\"\")\n",
    "    print(\"*\" * (1 + (2 * (i - 1))))\n",
    "    \n",
    "for i in range(n - 1, 0, -1):\n",
    "    print(\" \" * (n - i), end=\"\")\n",
    "    print(\"*\" * (1 + 2 * (i - 1)))"
   ]
  },
  {
   "cell_type": "markdown",
   "id": "be7ec3f5",
   "metadata": {},
   "source": [
    "위의 코드를 더 간략하게 아래와 같이 수정"
   ]
  },
  {
   "cell_type": "code",
   "execution_count": 23,
   "id": "cda6cda9",
   "metadata": {},
   "outputs": [
    {
     "name": "stdout",
     "output_type": "stream",
     "text": [
      "5\n",
      "    *\n",
      "   ***\n",
      "  *****\n",
      " *******\n",
      "*********\n",
      " *******\n",
      "  *****\n",
      "   ***\n",
      "    *\n"
     ]
    }
   ],
   "source": [
    "n = int(input())\n",
    "\n",
    "for i in range(1, n):\n",
    "    print(\" \" * (n - i) + \"*\" * (2 * i - 1))\n",
    "    \n",
    "for i in range(n, 0, -1):\n",
    "    print(\" \" * (n - i) + \"*\" * (2 * i - 1))"
   ]
  },
  {
   "cell_type": "markdown",
   "id": "aadd5be9",
   "metadata": {},
   "source": [
    "## 팰린드롬인지 확인하기"
   ]
  },
  {
   "cell_type": "markdown",
   "id": "a7567dd4",
   "metadata": {},
   "source": [
    "문제: 10988번"
   ]
  },
  {
   "cell_type": "code",
   "execution_count": 26,
   "id": "bf5c2db2",
   "metadata": {},
   "outputs": [
    {
     "name": "stdout",
     "output_type": "stream",
     "text": [
      "level\n",
      "1\n"
     ]
    }
   ],
   "source": [
    "word = input()\n",
    "if word == word[::-1]:\n",
    "    print(1)\n",
    "else:\n",
    "    print(0)"
   ]
  },
  {
   "cell_type": "markdown",
   "id": "f801171b",
   "metadata": {},
   "source": [
    "## 단어 공부"
   ]
  },
  {
   "cell_type": "markdown",
   "id": "00d7891f",
   "metadata": {},
   "source": [
    "문제: 1157번"
   ]
  },
  {
   "cell_type": "code",
   "execution_count": 58,
   "id": "5470ebc0",
   "metadata": {},
   "outputs": [
    {
     "name": "stdout",
     "output_type": "stream",
     "text": [
      "Mississipi\n",
      "?\n"
     ]
    }
   ],
   "source": [
    "word = input().upper()\n",
    "alpha_list = list(set(word))\n",
    "counts = []\n",
    "\n",
    "for alpha in alpha_list:\n",
    "    counts.append(word.count(alpha))\n",
    "\n",
    "max_count = max(counts)\n",
    "if counts.count(max_count) >= 2:\n",
    "    print('?')\n",
    "else:\n",
    "    print(alpha_list[counts.index(max_count)])"
   ]
  },
  {
   "cell_type": "markdown",
   "id": "c0d13e4c",
   "metadata": {},
   "source": [
    "## 크로아티아 알파벳"
   ]
  },
  {
   "cell_type": "markdown",
   "id": "9615f291",
   "metadata": {},
   "source": [
    "문제: 2941번"
   ]
  },
  {
   "cell_type": "code",
   "execution_count": 73,
   "id": "d3a2e1d0",
   "metadata": {},
   "outputs": [
    {
     "name": "stdout",
     "output_type": "stream",
     "text": [
      "ljes=njak\n",
      "6\n"
     ]
    }
   ],
   "source": [
    "alpha_lst = ['c=', 'c-', 'dz=', 'd-', 'lj', 'nj', 's=', 'z=']\n",
    "word = input()\n",
    "\n",
    "for alpha in alpha_lst:\n",
    "    word = word.replace(alpha, '*')\n",
    "    \n",
    "print(len(word))"
   ]
  },
  {
   "cell_type": "markdown",
   "id": "ece62809",
   "metadata": {},
   "source": [
    "replace 함수를 사용해서 간단하게 해결 가능! 처음에는 일일이 카운트하는 방법을 사용했으나 다른 코드를 참고해서 해결."
   ]
  },
  {
   "cell_type": "markdown",
   "id": "498eaf0f",
   "metadata": {},
   "source": [
    "## 너의 평점은"
   ]
  },
  {
   "cell_type": "markdown",
   "id": "c47a73ad",
   "metadata": {},
   "source": [
    "문제: 25206번"
   ]
  },
  {
   "cell_type": "code",
   "execution_count": null,
   "id": "bc3d0999",
   "metadata": {},
   "outputs": [],
   "source": [
    "grade = ['A+', 'A0', 'B+', 'B0', 'C+', 'C0', 'D+', 'D0', 'F']\n",
    "score = [4.5, 4.0, 3.5, 3.0, 2.5, 2.0, 1.5, 1.0, 0.0]\n",
    "total = 0\n",
    "result = 0\n",
    "\n",
    "for _ in range(20):\n",
    "    c, s, g = input().split()\n",
    "    s = float(s)\n",
    "    \n",
    "    if g != 'P':\n",
    "        total += s\n",
    "        result += s * score[grade.index(g)]\n",
    "\n",
    "print(result / total)"
   ]
  },
  {
   "cell_type": "markdown",
   "id": "39a57837",
   "metadata": {},
   "source": [
    "리스트 두 개를 사용하여 푼 방법"
   ]
  },
  {
   "cell_type": "code",
   "execution_count": null,
   "id": "4881b87b",
   "metadata": {},
   "outputs": [],
   "source": [
    "score = {'A+': 4.5, 'A0': 4.0, 'B+': 3.5, 'B0': 3.0, 'C+': 2.5, 'C0': 2.0, 'D+': 1.5, 'D0': 1.0, 'F': 0.0}\n",
    "total = 0\n",
    "result = 0\n",
    "\n",
    "for i in range(20):\n",
    "    c, s, g = input().split()\n",
    "    s = float(s)\n",
    "    \n",
    "    if g != 'P':\n",
    "        total += s\n",
    "        result += s * score[g]\n",
    "        \n",
    "print(result / total)"
   ]
  },
  {
   "cell_type": "markdown",
   "id": "8089d823",
   "metadata": {},
   "source": [
    "디셔너리를 사용하여 푼 방법. 다른 사람의 코드를 참고함. 소요 시간이 위의 방법보다 더 짧았음."
   ]
  },
  {
   "cell_type": "code",
   "execution_count": null,
   "id": "79fa3d88",
   "metadata": {},
   "outputs": [],
   "source": []
  }
 ],
 "metadata": {
  "kernelspec": {
   "display_name": "Python 3 (ipykernel)",
   "language": "python",
   "name": "python3"
  },
  "language_info": {
   "codemirror_mode": {
    "name": "ipython",
    "version": 3
   },
   "file_extension": ".py",
   "mimetype": "text/x-python",
   "name": "python",
   "nbconvert_exporter": "python",
   "pygments_lexer": "ipython3",
   "version": "3.9.12"
  }
 },
 "nbformat": 4,
 "nbformat_minor": 5
}
