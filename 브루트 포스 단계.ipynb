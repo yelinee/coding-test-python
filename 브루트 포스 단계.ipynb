{
 "cells": [
  {
   "cell_type": "markdown",
   "id": "2afc06b8",
   "metadata": {},
   "source": [
    "## 블랙잭"
   ]
  },
  {
   "cell_type": "markdown",
   "id": "a90e7aa7",
   "metadata": {},
   "source": [
    "문제: 2798번"
   ]
  },
  {
   "cell_type": "code",
   "execution_count": 1,
   "id": "272cdd9c",
   "metadata": {},
   "outputs": [
    {
     "name": "stdout",
     "output_type": "stream",
     "text": [
      "5 21\n",
      "5 6 7 8 9\n",
      "21\n"
     ]
    }
   ],
   "source": [
    "n, m = map(int, input().split())\n",
    "cards = list(map(int, input().split()))\n",
    "result = 0\n",
    "    \n",
    "for i in range(n):\n",
    "    for j in range(i + 1, n):\n",
    "        for k in range(j + 1, n):\n",
    "            tmp = cards[i] + cards[j] + cards[k]\n",
    "            if result < tmp <= m:\n",
    "                result = tmp\n",
    "            \n",
    "print(result)"
   ]
  },
  {
   "cell_type": "markdown",
   "id": "e7d03b4c",
   "metadata": {},
   "source": [
    "삼중 반복문을 사용해서 해결하는 방법"
   ]
  },
  {
   "cell_type": "code",
   "execution_count": 2,
   "id": "17f94075",
   "metadata": {},
   "outputs": [
    {
     "name": "stdout",
     "output_type": "stream",
     "text": [
      "5 21\n",
      "5 6 7 8 9\n",
      "21\n"
     ]
    }
   ],
   "source": [
    "from itertools import combinations\n",
    "\n",
    "n, m = map(int, input().split())\n",
    "cards = list(map(int, input().split()))\n",
    "result = 0\n",
    "    \n",
    "for card in combinations(cards, 3):\n",
    "    tmp = sum(card)\n",
    "    if result < tmp <= m:\n",
    "        result = tmp\n",
    "            \n",
    "print(result)"
   ]
  },
  {
   "cell_type": "markdown",
   "id": "37411184",
   "metadata": {},
   "source": [
    "itertools 라이브러리의 combinations 함수를 사용하는 방법"
   ]
  },
  {
   "cell_type": "markdown",
   "id": "9f94e448",
   "metadata": {},
   "source": [
    "## 분해합"
   ]
  },
  {
   "cell_type": "markdown",
   "id": "0b1bd60b",
   "metadata": {},
   "source": [
    "문제: 2231번"
   ]
  },
  {
   "cell_type": "code",
   "execution_count": 3,
   "id": "b8ac38fb",
   "metadata": {},
   "outputs": [
    {
     "name": "stdout",
     "output_type": "stream",
     "text": [
      "216\n",
      "198\n"
     ]
    }
   ],
   "source": [
    "n = int(input())\n",
    "result = 0\n",
    "\n",
    "for i in range(1, n):\n",
    "    i = str(i)\n",
    "    tmp = 0\n",
    "    for j in range(len(i)):\n",
    "        tmp += int(i[j])\n",
    "    tmp += int(i)\n",
    "    if tmp == n:\n",
    "        result = i\n",
    "        break\n",
    "    \n",
    "print(result)"
   ]
  },
  {
   "cell_type": "code",
   "execution_count": 5,
   "id": "c8a09e1e",
   "metadata": {},
   "outputs": [
    {
     "name": "stdout",
     "output_type": "stream",
     "text": [
      "216\n",
      "198\n"
     ]
    }
   ],
   "source": [
    "n = int(input())\n",
    "result = 0\n",
    "\n",
    "for i in range(1, n):\n",
    "    tmp = sum(map(int, str(i)))\n",
    "    tmp += i\n",
    "    if tmp == n:\n",
    "        result = i\n",
    "        break\n",
    "    \n",
    "print(result)"
   ]
  },
  {
   "cell_type": "markdown",
   "id": "4f95dc5e",
   "metadata": {},
   "source": [
    "첫 번째 코드에서 이중 반복문을 없애고 불필요한 과정을 제거하여 소요시간을 줄임."
   ]
  },
  {
   "cell_type": "code",
   "execution_count": 14,
   "id": "88172836",
   "metadata": {},
   "outputs": [
    {
     "name": "stdout",
     "output_type": "stream",
     "text": [
      "1 3 -1 4 1 7\n",
      "2 -1\n"
     ]
    }
   ],
   "source": [
    "a, b, c, d, e, f = map(int, input().split())\n",
    "    \n",
    "for x in range(-999, 1000):\n",
    "    for y in range(-999, 1000):\n",
    "        if a*x + b*y == c and d*x + e*y == f:\n",
    "            print(x, y)\n",
    "            break"
   ]
  },
  {
   "cell_type": "code",
   "execution_count": 16,
   "id": "1a15abb9",
   "metadata": {},
   "outputs": [
    {
     "name": "stdout",
     "output_type": "stream",
     "text": [
      "1 3 -1 4 1 7\n",
      "2 -1\n"
     ]
    }
   ],
   "source": [
    "from itertools import product\n",
    "a, b, c, d, e, f = map(int, input().split())\n",
    "    \n",
    "for x, y in product(range(-999, 1000), repeat=2):\n",
    "        if a * x + b * y == c and d * x + e * y == f:\n",
    "            print(x, y)\n",
    "            break"
   ]
  },
  {
   "cell_type": "markdown",
   "id": "575d19e8",
   "metadata": {},
   "source": [
    "조합 함수를 사용하는 방법. 소요시간은 위의 코드가 더 적었음."
   ]
  },
  {
   "cell_type": "markdown",
   "id": "8a8bf71b",
   "metadata": {},
   "source": [
    "## 체스판 다시 칠하기"
   ]
  },
  {
   "cell_type": "markdown",
   "id": "de171276",
   "metadata": {},
   "source": [
    "문제: 1018번"
   ]
  },
  {
   "cell_type": "code",
   "execution_count": null,
   "id": "4a1fbdbe",
   "metadata": {},
   "outputs": [],
   "source": [
    "n, m = map(int, input().split())\n",
    "board = []\n",
    "result = []\n",
    "\n",
    "for _ in range(n):\n",
    "    board.append(input())\n",
    "        \n",
    "for i in range(n-7):\n",
    "    for j in range(m-7):\n",
    "        b_idx = 0\n",
    "        w_idx = 0\n",
    "        for a in range(i, i+8):\n",
    "            for b in range(j, j+8):\n",
    "                if (a + b) % 2 == 0:\n",
    "                    if board[a][b] != 'B':\n",
    "                        b_idx += 1\n",
    "                    if board[a][b] != 'W':\n",
    "                        w_idx += 1\n",
    "                else:\n",
    "                    if board[a][b] != 'W':\n",
    "                        b_idx += 1\n",
    "                    if board[a][b] != 'B':\n",
    "                        w_idx += 1\n",
    "                        \n",
    "        result.append(b_idx)\n",
    "        result.append(w_idx)\n",
    "print(min(result))"
   ]
  },
  {
   "cell_type": "markdown",
   "id": "7947fb75",
   "metadata": {},
   "source": [
    "## 영화감독 숌"
   ]
  },
  {
   "cell_type": "markdown",
   "id": "caa7a6d6",
   "metadata": {},
   "source": [
    "문제: 1436번"
   ]
  },
  {
   "cell_type": "code",
   "execution_count": 36,
   "id": "6bbcd9d0",
   "metadata": {},
   "outputs": [
    {
     "name": "stdout",
     "output_type": "stream",
     "text": [
      "187\n",
      "66666\n"
     ]
    }
   ],
   "source": [
    "n = int(input())\n",
    "count = 0\n",
    "title = 666\n",
    "    \n",
    "while True:\n",
    "    if '666' in str(title):\n",
    "        count += 1 \n",
    "        if count == n:\n",
    "            print(title)\n",
    "            break\n",
    "            \n",
    "    title += 1"
   ]
  },
  {
   "cell_type": "markdown",
   "id": "dd352038",
   "metadata": {},
   "source": [
    "## 설탕 배달"
   ]
  },
  {
   "cell_type": "markdown",
   "id": "31887e36",
   "metadata": {},
   "source": [
    "문제: 2839번"
   ]
  },
  {
   "cell_type": "code",
   "execution_count": 41,
   "id": "69ecb710",
   "metadata": {},
   "outputs": [
    {
     "name": "stdout",
     "output_type": "stream",
     "text": [
      "9\n",
      "3\n"
     ]
    }
   ],
   "source": [
    "n = int(input())\n",
    "count = 0\n",
    "    \n",
    "while n >= 0:\n",
    "    if n % 5 == 0:\n",
    "        count += n // 5\n",
    "        print(count)\n",
    "        break\n",
    "            \n",
    "    n -= 3\n",
    "    count += 1\n",
    "else:\n",
    "    print(-1)"
   ]
  }
 ],
 "metadata": {
  "kernelspec": {
   "display_name": "Python 3 (ipykernel)",
   "language": "python",
   "name": "python3"
  },
  "language_info": {
   "codemirror_mode": {
    "name": "ipython",
    "version": 3
   },
   "file_extension": ".py",
   "mimetype": "text/x-python",
   "name": "python",
   "nbconvert_exporter": "python",
   "pygments_lexer": "ipython3",
   "version": "3.9.12"
  }
 },
 "nbformat": 4,
 "nbformat_minor": 5
}
